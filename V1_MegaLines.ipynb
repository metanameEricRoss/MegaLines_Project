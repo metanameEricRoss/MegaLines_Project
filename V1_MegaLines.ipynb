{
 "cells": [
  {
   "cell_type": "markdown",
   "metadata": {
    "heading_collapsed": true
   },
   "source": [
    "# Introduction\n",
    "\n",
    "In this project for MegaLines telecom company, we have been tasked to help identify which of the two plans offered to the customers is more profitable. This will in turn help to inform the marketing team on how to adjust the budget for advertising.  \n",
    "\n",
    "Using a small sample of 500 customers and their behavior in regards to messaging, calls and Internet usage from the year 2018. we will conduct a preliminary analysis to investigate the revenue distribution of customers in each plan. "
   ]
  },
  {
   "cell_type": "markdown",
   "metadata": {
    "hidden": true
   },
   "source": [
    "## Changes for Version-1.0 \n",
    "\n",
    "- Organize this notebook, readable and consistent. \n",
    "\n",
    "- changes will be note in **Comment:**\n",
    "\n",
    "- Improve the EDA and charting, Update methods. and simplify the process and findings. "
   ]
  },
  {
   "cell_type": "markdown",
   "metadata": {
    "hidden": true
   },
   "source": [
    "## Libraries "
   ]
  },
  {
   "cell_type": "code",
   "execution_count": 1,
   "metadata": {
    "hidden": true
   },
   "outputs": [],
   "source": [
    "import pandas as pd\n",
    "import scipy as py\n",
    "from scipy import stats as st \n",
    "import numpy as np\n",
    "import matplotlib.pyplot as plt\n",
    "import math\n",
    "import statistics as stats"
   ]
  },
  {
   "cell_type": "markdown",
   "metadata": {
    "hidden": true
   },
   "source": [
    "## Load Datasets"
   ]
  },
  {
   "cell_type": "markdown",
   "metadata": {
    "hidden": true
   },
   "source": [
    "**DataSets**\n",
    "keys for all data sets \"user_id\"\n",
    "\n",
    "\"id\" represent unique instances for each user. ex: '1000'+'_93' 'user_id'+ '_instanceid'\n",
    "\n",
    "`calls_data` - multiple values for calls for each 'user_id'.\n",
    "\n",
    "- \"duration\" is the time of the call. each call has a date in \"call_date\"\n",
    "- 137735 rows total for the 500 unique \"user_ids\"\n",
    "<br>\n",
    "\n",
    "`messages_data` - messages for each 'user_id'\n",
    "- the count of messages are are in the number of unique \"id\" per 'user_id'\n",
    "<br>\n",
    "\n",
    "`internet_data` - megabites uses per session in each 'id'\n",
    "<br>\n",
    "\n",
    "`plans_data` - Metrics for both plans. \n",
    "- limits for each plan\n",
    "- price for overages\n",
    "<br>\n",
    "\n",
    "`user_data`\n",
    " - 'first_name' & 'last_name' \n",
    " - 'age'\n",
    " - 'city', contains city and state\n",
    " - 'reg_date', data of registration\n",
    " - 'tariff', plan for this 'user_id'\n",
    " - 'churn_date' - \"nan\" values for current users"
   ]
  },
  {
   "cell_type": "code",
   "execution_count": 2,
   "metadata": {
    "hidden": true
   },
   "outputs": [],
   "source": [
    "# Load the data files into different DataFrames\n",
    "calls_data = pd.read_csv(\n",
    "    '/Users/ericross/Desktop/Professional_Projects/Mega-Lines-project/Megaline datasets/megaline_calls.csv',\n",
    "    parse_dates=['call_date']\n",
    ")"
   ]
  },
  {
   "cell_type": "code",
   "execution_count": 3,
   "metadata": {
    "hidden": true
   },
   "outputs": [],
   "source": [
    "messages_data = pd.read_csv(\n",
    "    '/Users/ericross/Desktop/Professional_Projects/Mega-Lines-project/Megaline datasets/megaline_messages.csv',\n",
    "    parse_dates=['message_date']\n",
    ")"
   ]
  },
  {
   "cell_type": "code",
   "execution_count": 4,
   "metadata": {
    "hidden": true
   },
   "outputs": [],
   "source": [
    "internet_data = pd.read_csv(\n",
    "    '/Users/ericross/Desktop/Professional_Projects/Mega-Lines-project/Megaline datasets/megaline_internet.csv',\n",
    "    parse_dates=['session_date']\n",
    ")"
   ]
  },
  {
   "cell_type": "code",
   "execution_count": 5,
   "metadata": {
    "hidden": true
   },
   "outputs": [],
   "source": [
    "plans_data = pd.read_csv(\n",
    "    '/Users/ericross/Desktop/Professional_Projects/Mega-Lines-project/Megaline datasets/megaline_plans.csv'\n",
    ")"
   ]
  },
  {
   "cell_type": "code",
   "execution_count": 6,
   "metadata": {
    "hidden": true
   },
   "outputs": [],
   "source": [
    "users_data = pd.read_csv(\n",
    "    '/Users/ericross/Desktop/Professional_Projects/Mega-Lines-project/Megaline datasets/megaline_users1.csv',\n",
    "    parse_dates=['reg_date']\n",
    ")"
   ]
  },
  {
   "cell_type": "markdown",
   "metadata": {
    "heading_collapsed": true
   },
   "source": [
    "# Preprocessing"
   ]
  },
  {
   "cell_type": "markdown",
   "metadata": {
    "heading_collapsed": true,
    "hidden": true
   },
   "source": [
    "## Plans_data"
   ]
  },
  {
   "cell_type": "code",
   "execution_count": 7,
   "metadata": {
    "hidden": true
   },
   "outputs": [
    {
     "data": {
      "text/html": [
       "<div>\n",
       "<style scoped>\n",
       "    .dataframe tbody tr th:only-of-type {\n",
       "        vertical-align: middle;\n",
       "    }\n",
       "\n",
       "    .dataframe tbody tr th {\n",
       "        vertical-align: top;\n",
       "    }\n",
       "\n",
       "    .dataframe thead th {\n",
       "        text-align: right;\n",
       "    }\n",
       "</style>\n",
       "<table border=\"1\" class=\"dataframe\">\n",
       "  <thead>\n",
       "    <tr style=\"text-align: right;\">\n",
       "      <th></th>\n",
       "      <th>messages_included</th>\n",
       "      <th>mb_per_month_included</th>\n",
       "      <th>minutes_included</th>\n",
       "      <th>usd_monthly_pay</th>\n",
       "      <th>usd_per_gb</th>\n",
       "      <th>usd_per_message</th>\n",
       "      <th>usd_per_minute</th>\n",
       "      <th>plan_name</th>\n",
       "    </tr>\n",
       "  </thead>\n",
       "  <tbody>\n",
       "    <tr>\n",
       "      <th>0</th>\n",
       "      <td>50</td>\n",
       "      <td>15360</td>\n",
       "      <td>500</td>\n",
       "      <td>20</td>\n",
       "      <td>10</td>\n",
       "      <td>0.03</td>\n",
       "      <td>0.03</td>\n",
       "      <td>surf</td>\n",
       "    </tr>\n",
       "    <tr>\n",
       "      <th>1</th>\n",
       "      <td>1000</td>\n",
       "      <td>30720</td>\n",
       "      <td>3000</td>\n",
       "      <td>70</td>\n",
       "      <td>7</td>\n",
       "      <td>0.01</td>\n",
       "      <td>0.01</td>\n",
       "      <td>ultimate</td>\n",
       "    </tr>\n",
       "  </tbody>\n",
       "</table>\n",
       "</div>"
      ],
      "text/plain": [
       "   messages_included  mb_per_month_included  minutes_included  \\\n",
       "0                 50                  15360               500   \n",
       "1               1000                  30720              3000   \n",
       "\n",
       "   usd_monthly_pay  usd_per_gb  usd_per_message  usd_per_minute plan_name  \n",
       "0               20          10             0.03            0.03      surf  \n",
       "1               70           7             0.01            0.01  ultimate  "
      ]
     },
     "execution_count": 7,
     "metadata": {},
     "output_type": "execute_result"
    }
   ],
   "source": [
    "# Print a sample of data for plans\n",
    "plans_data\n"
   ]
  },
  {
   "cell_type": "markdown",
   "metadata": {
    "hidden": true
   },
   "source": [
    " "
   ]
  },
  {
   "cell_type": "markdown",
   "metadata": {
    "heading_collapsed": true,
    "hidden": true
   },
   "source": [
    "## Users_data"
   ]
  },
  {
   "cell_type": "code",
   "execution_count": 8,
   "metadata": {
    "hidden": true,
    "scrolled": false
   },
   "outputs": [
    {
     "name": "stdout",
     "output_type": "stream",
     "text": [
      "<class 'pandas.core.frame.DataFrame'>\n",
      "RangeIndex: 500 entries, 0 to 499\n",
      "Data columns (total 8 columns):\n",
      " #   Column      Non-Null Count  Dtype         \n",
      "---  ------      --------------  -----         \n",
      " 0   user_id     500 non-null    int64         \n",
      " 1   first_name  500 non-null    object        \n",
      " 2   last_name   500 non-null    object        \n",
      " 3   age         500 non-null    int64         \n",
      " 4   city        500 non-null    object        \n",
      " 5   reg_date    500 non-null    datetime64[ns]\n",
      " 6   tariff      500 non-null    object        \n",
      " 7   churn_date  34 non-null     object        \n",
      "dtypes: datetime64[ns](1), int64(2), object(5)\n",
      "memory usage: 31.4+ KB\n"
     ]
    }
   ],
   "source": [
    "# Print the general/summary information about the users' DataFrame\n",
    "users_data.info()"
   ]
  },
  {
   "cell_type": "code",
   "execution_count": 9,
   "metadata": {
    "hidden": true
   },
   "outputs": [],
   "source": [
    "users_data.rename(columns={'city': 'location'}, inplace=True)\n"
   ]
  },
  {
   "cell_type": "code",
   "execution_count": 10,
   "metadata": {
    "hidden": true
   },
   "outputs": [
    {
     "name": "stdout",
     "output_type": "stream",
     "text": [
      "0\n"
     ]
    },
    {
     "data": {
      "text/plain": [
       "array([1000, 1001, 1002, 1003, 1004, 1005, 1006, 1007, 1008, 1009, 1010,\n",
       "       1011, 1012, 1013, 1014, 1015, 1016, 1017, 1018, 1019, 1020, 1021,\n",
       "       1022, 1023, 1024, 1025, 1026, 1027, 1028, 1029, 1030, 1031, 1032,\n",
       "       1033, 1034, 1035, 1036, 1037, 1038, 1039, 1040, 1041, 1042, 1043,\n",
       "       1044, 1045, 1046, 1047, 1048, 1049, 1050, 1051, 1052, 1053, 1054,\n",
       "       1055, 1056, 1057, 1058, 1059, 1060, 1061, 1062, 1063, 1064, 1065,\n",
       "       1066, 1067, 1068, 1069, 1070, 1071, 1072, 1073, 1074, 1075, 1076,\n",
       "       1077, 1078, 1079, 1080, 1081, 1082, 1083, 1084, 1085, 1086, 1087,\n",
       "       1088, 1089, 1090, 1091, 1092, 1093, 1094, 1095, 1096, 1097, 1098,\n",
       "       1099, 1100, 1101, 1102, 1103, 1104, 1105, 1106, 1107, 1108, 1109,\n",
       "       1110, 1111, 1112, 1113, 1114, 1115, 1116, 1117, 1118, 1119, 1120,\n",
       "       1121, 1122, 1123, 1124, 1125, 1126, 1127, 1128, 1129, 1130, 1131,\n",
       "       1132, 1133, 1134, 1135, 1136, 1137, 1138, 1139, 1140, 1141, 1142,\n",
       "       1143, 1144, 1145, 1146, 1147, 1148, 1149, 1150, 1151, 1152, 1153,\n",
       "       1154, 1155, 1156, 1157, 1158, 1159, 1160, 1161, 1162, 1163, 1164,\n",
       "       1165, 1166, 1167, 1168, 1169, 1170, 1171, 1172, 1173, 1174, 1175,\n",
       "       1176, 1177, 1178, 1179, 1180, 1181, 1182, 1183, 1184, 1185, 1186,\n",
       "       1187, 1188, 1189, 1190, 1191, 1192, 1193, 1194, 1195, 1196, 1197,\n",
       "       1198, 1199, 1200, 1201, 1202, 1203, 1204, 1205, 1206, 1207, 1208,\n",
       "       1209, 1210, 1211, 1212, 1213, 1214, 1215, 1216, 1217, 1218, 1219,\n",
       "       1220, 1221, 1222, 1223, 1224, 1225, 1226, 1227, 1228, 1229, 1230,\n",
       "       1231, 1232, 1233, 1234, 1235, 1236, 1237, 1238, 1239, 1240, 1241,\n",
       "       1242, 1243, 1244, 1245, 1246, 1247, 1248, 1249, 1250, 1251, 1252,\n",
       "       1253, 1254, 1255, 1256, 1257, 1258, 1259, 1260, 1261, 1262, 1263,\n",
       "       1264, 1265, 1266, 1267, 1268, 1269, 1270, 1271, 1272, 1273, 1274,\n",
       "       1275, 1276, 1277, 1278, 1279, 1280, 1281, 1282, 1283, 1284, 1285,\n",
       "       1286, 1287, 1288, 1289, 1290, 1291, 1292, 1293, 1294, 1295, 1296,\n",
       "       1297, 1298, 1299, 1300, 1301, 1302, 1303, 1304, 1305, 1306, 1307,\n",
       "       1308, 1309, 1310, 1311, 1312, 1313, 1314, 1315, 1316, 1317, 1318,\n",
       "       1319, 1320, 1321, 1322, 1323, 1324, 1325, 1326, 1327, 1328, 1329,\n",
       "       1330, 1331, 1332, 1333, 1334, 1335, 1336, 1337, 1338, 1339, 1340,\n",
       "       1341, 1342, 1343, 1344, 1345, 1346, 1347, 1348, 1349, 1350, 1351,\n",
       "       1352, 1353, 1354, 1355, 1356, 1357, 1358, 1359, 1360, 1361, 1362,\n",
       "       1363, 1364, 1365, 1366, 1367, 1368, 1369, 1370, 1371, 1372, 1373,\n",
       "       1374, 1375, 1376, 1377, 1378, 1379, 1380, 1381, 1382, 1383, 1384,\n",
       "       1385, 1386, 1387, 1388, 1389, 1390, 1391, 1392, 1393, 1394, 1395,\n",
       "       1396, 1397, 1398, 1399, 1400, 1401, 1402, 1403, 1404, 1405, 1406,\n",
       "       1407, 1408, 1409, 1410, 1411, 1412, 1413, 1414, 1415, 1416, 1417,\n",
       "       1418, 1419, 1420, 1421, 1422, 1423, 1424, 1425, 1426, 1427, 1428,\n",
       "       1429, 1430, 1431, 1432, 1433, 1434, 1435, 1436, 1437, 1438, 1439,\n",
       "       1440, 1441, 1442, 1443, 1444, 1445, 1446, 1447, 1448, 1449, 1450,\n",
       "       1451, 1452, 1453, 1454, 1455, 1456, 1457, 1458, 1459, 1460, 1461,\n",
       "       1462, 1463, 1464, 1465, 1466, 1467, 1468, 1469, 1470, 1471, 1472,\n",
       "       1473, 1474, 1475, 1476, 1477, 1478, 1479, 1480, 1481, 1482, 1483,\n",
       "       1484, 1485, 1486, 1487, 1488, 1489, 1490, 1491, 1492, 1493, 1494,\n",
       "       1495, 1496, 1497, 1498, 1499])"
      ]
     },
     "execution_count": 10,
     "metadata": {},
     "output_type": "execute_result"
    }
   ],
   "source": [
    "print(users_data['user_id'].duplicated().sum())\n",
    "\n",
    "users_data['user_id'].unique()"
   ]
  },
  {
   "cell_type": "code",
   "execution_count": 11,
   "metadata": {
    "hidden": true,
    "scrolled": false
   },
   "outputs": [
    {
     "data": {
      "text/plain": [
       "(Timestamp('2018-01-01 00:00:00'), Timestamp('2018-12-31 00:00:00'))"
      ]
     },
     "execution_count": 11,
     "metadata": {},
     "output_type": "execute_result"
    }
   ],
   "source": [
    "users_data['reg_date'].min(),users_data['reg_date'].max()\n"
   ]
  },
  {
   "cell_type": "code",
   "execution_count": 12,
   "metadata": {
    "hidden": true
   },
   "outputs": [
    {
     "name": "stderr",
     "output_type": "stream",
     "text": [
      "/var/folders/2v/vvfftz_j38j68jttxc75xyf00000gn/T/ipykernel_32813/2039806083.py:4: FutureWarning: The default value of regex will change from True to False in a future version.\n",
      "  users_data['state'] = users_data['state'].str.replace(r'\\s+MSA$', '')\n"
     ]
    },
    {
     "data": {
      "text/plain": [
       "NY-NJ-PA       80\n",
       "CA             78\n",
       "TX             39\n",
       "FL             25\n",
       "IL-IN-WI       19\n",
       "PA-NJ-DE-MD    17\n",
       "MI             16\n",
       "GA             14\n",
       "WA             13\n",
       "TN             12\n",
       "MA-NH          12\n",
       "DC-VA-MD-WV    11\n",
       "MN-WI          11\n",
       "AZ             11\n",
       "OH              9\n",
       "LA              9\n",
       "CO              9\n",
       "OR-WA           8\n",
       "NC-SC           8\n",
       "OH-KY-IN        8\n",
       "SC              7\n",
       "NV              7\n",
       "CT              6\n",
       "NY              6\n",
       "IN              6\n",
       "OK              6\n",
       "PA              5\n",
       "KY-IN           5\n",
       "HI              5\n",
       "AL              4\n",
       "VA-NC           4\n",
       "MD              4\n",
       "VA              4\n",
       "RI-MA           3\n",
       "UT              3\n",
       "WI              3\n",
       "MO-IL           3\n",
       "NM              2\n",
       "MO-KS           2\n",
       "NE-IA           2\n",
       "TN-MS-AR        2\n",
       "NC              2\n",
       "Name: state, dtype: int64"
      ]
     },
     "execution_count": 12,
     "metadata": {},
     "output_type": "execute_result"
    }
   ],
   "source": [
    "import re\n",
    "\n",
    "users_data['state'] = users_data['location'].str.extract(r',\\s*([A-Za-z]+(?:\\s*-?[A-Za-z]+)*)')\n",
    "users_data['state'] = users_data['state'].str.replace(r'\\s+MSA$', '')\n",
    "\n",
    "users_data['state'].value_counts()"
   ]
  },
  {
   "cell_type": "code",
   "execution_count": 13,
   "metadata": {
    "hidden": true,
    "scrolled": true
   },
   "outputs": [
    {
     "data": {
      "text/html": [
       "<div>\n",
       "<style scoped>\n",
       "    .dataframe tbody tr th:only-of-type {\n",
       "        vertical-align: middle;\n",
       "    }\n",
       "\n",
       "    .dataframe tbody tr th {\n",
       "        vertical-align: top;\n",
       "    }\n",
       "\n",
       "    .dataframe thead th {\n",
       "        text-align: right;\n",
       "    }\n",
       "</style>\n",
       "<table border=\"1\" class=\"dataframe\">\n",
       "  <thead>\n",
       "    <tr style=\"text-align: right;\">\n",
       "      <th></th>\n",
       "      <th>user_id</th>\n",
       "      <th>first_name</th>\n",
       "      <th>last_name</th>\n",
       "      <th>age</th>\n",
       "      <th>location</th>\n",
       "      <th>reg_date</th>\n",
       "      <th>tariff</th>\n",
       "      <th>churn_date</th>\n",
       "      <th>state</th>\n",
       "      <th>month</th>\n",
       "    </tr>\n",
       "  </thead>\n",
       "  <tbody>\n",
       "    <tr>\n",
       "      <th>0</th>\n",
       "      <td>1000</td>\n",
       "      <td>Anamaria</td>\n",
       "      <td>Bauer</td>\n",
       "      <td>45</td>\n",
       "      <td>Atlanta-Sandy Springs-Roswell, GA MSA</td>\n",
       "      <td>2018-12-24</td>\n",
       "      <td>ultimate</td>\n",
       "      <td>NaN</td>\n",
       "      <td>GA</td>\n",
       "      <td>12</td>\n",
       "    </tr>\n",
       "    <tr>\n",
       "      <th>1</th>\n",
       "      <td>1001</td>\n",
       "      <td>Mickey</td>\n",
       "      <td>Wilkerson</td>\n",
       "      <td>28</td>\n",
       "      <td>Seattle-Tacoma-Bellevue, WA MSA</td>\n",
       "      <td>2018-08-13</td>\n",
       "      <td>surf</td>\n",
       "      <td>NaN</td>\n",
       "      <td>WA</td>\n",
       "      <td>8</td>\n",
       "    </tr>\n",
       "    <tr>\n",
       "      <th>2</th>\n",
       "      <td>1002</td>\n",
       "      <td>Carlee</td>\n",
       "      <td>Hoffman</td>\n",
       "      <td>36</td>\n",
       "      <td>Las Vegas-Henderson-Paradise, NV MSA</td>\n",
       "      <td>2018-10-21</td>\n",
       "      <td>surf</td>\n",
       "      <td>NaN</td>\n",
       "      <td>NV</td>\n",
       "      <td>10</td>\n",
       "    </tr>\n",
       "    <tr>\n",
       "      <th>3</th>\n",
       "      <td>1003</td>\n",
       "      <td>Reynaldo</td>\n",
       "      <td>Jenkins</td>\n",
       "      <td>52</td>\n",
       "      <td>Tulsa, OK MSA</td>\n",
       "      <td>2018-01-28</td>\n",
       "      <td>surf</td>\n",
       "      <td>NaN</td>\n",
       "      <td>OK</td>\n",
       "      <td>1</td>\n",
       "    </tr>\n",
       "    <tr>\n",
       "      <th>4</th>\n",
       "      <td>1004</td>\n",
       "      <td>Leonila</td>\n",
       "      <td>Thompson</td>\n",
       "      <td>40</td>\n",
       "      <td>Seattle-Tacoma-Bellevue, WA MSA</td>\n",
       "      <td>2018-05-23</td>\n",
       "      <td>surf</td>\n",
       "      <td>NaN</td>\n",
       "      <td>WA</td>\n",
       "      <td>5</td>\n",
       "    </tr>\n",
       "  </tbody>\n",
       "</table>\n",
       "</div>"
      ],
      "text/plain": [
       "   user_id first_name  last_name  age                               location  \\\n",
       "0     1000   Anamaria      Bauer   45  Atlanta-Sandy Springs-Roswell, GA MSA   \n",
       "1     1001     Mickey  Wilkerson   28        Seattle-Tacoma-Bellevue, WA MSA   \n",
       "2     1002     Carlee    Hoffman   36   Las Vegas-Henderson-Paradise, NV MSA   \n",
       "3     1003   Reynaldo    Jenkins   52                          Tulsa, OK MSA   \n",
       "4     1004    Leonila   Thompson   40        Seattle-Tacoma-Bellevue, WA MSA   \n",
       "\n",
       "    reg_date    tariff churn_date state  month  \n",
       "0 2018-12-24  ultimate        NaN    GA     12  \n",
       "1 2018-08-13      surf        NaN    WA      8  \n",
       "2 2018-10-21      surf        NaN    NV     10  \n",
       "3 2018-01-28      surf        NaN    OK      1  \n",
       "4 2018-05-23      surf        NaN    WA      5  "
      ]
     },
     "execution_count": 13,
     "metadata": {},
     "output_type": "execute_result"
    }
   ],
   "source": [
    "users_data['month'] = users_data['reg_date'].dt.month\n",
    "users_data.head()"
   ]
  },
  {
   "cell_type": "code",
   "execution_count": 14,
   "metadata": {
    "hidden": true
   },
   "outputs": [],
   "source": [
    "users_data['tariff_id'] = np.where(users_data['tariff'] == 'ultimate', 1, 0)"
   ]
  },
  {
   "cell_type": "code",
   "execution_count": 15,
   "metadata": {
    "hidden": true
   },
   "outputs": [
    {
     "data": {
      "text/plain": [
       "0    339\n",
       "1    161\n",
       "Name: tariff_id, dtype: int64"
      ]
     },
     "execution_count": 15,
     "metadata": {},
     "output_type": "execute_result"
    }
   ],
   "source": [
    "users_data['tariff_id'].value_counts()"
   ]
  },
  {
   "cell_type": "markdown",
   "metadata": {
    "hidden": true
   },
   "source": [
    " **Comment:** plot the share of plans in the data, with a Pie chart. "
   ]
  },
  {
   "cell_type": "markdown",
   "metadata": {
    "hidden": true
   },
   "source": [
    "### Fix Churn Date columns"
   ]
  },
  {
   "cell_type": "code",
   "execution_count": 16,
   "metadata": {
    "hidden": true,
    "scrolled": true
   },
   "outputs": [
    {
     "data": {
      "text/plain": [
       "0    466\n",
       "1     34\n",
       "Name: churn, dtype: int64"
      ]
     },
     "execution_count": 16,
     "metadata": {},
     "output_type": "execute_result"
    }
   ],
   "source": [
    "users_data.churn_date.fillna(users_data['reg_date'].max(),inplace=True)\n",
    "\n",
    "users_data['churn'] =  np.where(users_data['churn_date'] == users_data['reg_date'].max(), 0, 1)\n",
    "\n",
    "users_data['churn'].value_counts()"
   ]
  },
  {
   "cell_type": "markdown",
   "metadata": {
    "hidden": true
   },
   "source": [
    "### Remove Unneeded columns form Users_Data"
   ]
  },
  {
   "cell_type": "code",
   "execution_count": 17,
   "metadata": {
    "hidden": true
   },
   "outputs": [],
   "source": [
    "del users_data['tariff']\n",
    "del users_data['reg_date']\n",
    "del users_data['churn_date']\n",
    "del users_data['location']"
   ]
  },
  {
   "cell_type": "code",
   "execution_count": 18,
   "metadata": {
    "hidden": true
   },
   "outputs": [
    {
     "data": {
      "text/html": [
       "<div>\n",
       "<style scoped>\n",
       "    .dataframe tbody tr th:only-of-type {\n",
       "        vertical-align: middle;\n",
       "    }\n",
       "\n",
       "    .dataframe tbody tr th {\n",
       "        vertical-align: top;\n",
       "    }\n",
       "\n",
       "    .dataframe thead th {\n",
       "        text-align: right;\n",
       "    }\n",
       "</style>\n",
       "<table border=\"1\" class=\"dataframe\">\n",
       "  <thead>\n",
       "    <tr style=\"text-align: right;\">\n",
       "      <th></th>\n",
       "      <th>user_id</th>\n",
       "      <th>first_name</th>\n",
       "      <th>last_name</th>\n",
       "      <th>age</th>\n",
       "      <th>state</th>\n",
       "      <th>month</th>\n",
       "      <th>tariff_id</th>\n",
       "      <th>churn</th>\n",
       "    </tr>\n",
       "  </thead>\n",
       "  <tbody>\n",
       "    <tr>\n",
       "      <th>0</th>\n",
       "      <td>1000</td>\n",
       "      <td>Anamaria</td>\n",
       "      <td>Bauer</td>\n",
       "      <td>45</td>\n",
       "      <td>GA</td>\n",
       "      <td>12</td>\n",
       "      <td>1</td>\n",
       "      <td>0</td>\n",
       "    </tr>\n",
       "    <tr>\n",
       "      <th>1</th>\n",
       "      <td>1001</td>\n",
       "      <td>Mickey</td>\n",
       "      <td>Wilkerson</td>\n",
       "      <td>28</td>\n",
       "      <td>WA</td>\n",
       "      <td>8</td>\n",
       "      <td>0</td>\n",
       "      <td>0</td>\n",
       "    </tr>\n",
       "    <tr>\n",
       "      <th>2</th>\n",
       "      <td>1002</td>\n",
       "      <td>Carlee</td>\n",
       "      <td>Hoffman</td>\n",
       "      <td>36</td>\n",
       "      <td>NV</td>\n",
       "      <td>10</td>\n",
       "      <td>0</td>\n",
       "      <td>0</td>\n",
       "    </tr>\n",
       "    <tr>\n",
       "      <th>3</th>\n",
       "      <td>1003</td>\n",
       "      <td>Reynaldo</td>\n",
       "      <td>Jenkins</td>\n",
       "      <td>52</td>\n",
       "      <td>OK</td>\n",
       "      <td>1</td>\n",
       "      <td>0</td>\n",
       "      <td>0</td>\n",
       "    </tr>\n",
       "    <tr>\n",
       "      <th>4</th>\n",
       "      <td>1004</td>\n",
       "      <td>Leonila</td>\n",
       "      <td>Thompson</td>\n",
       "      <td>40</td>\n",
       "      <td>WA</td>\n",
       "      <td>5</td>\n",
       "      <td>0</td>\n",
       "      <td>0</td>\n",
       "    </tr>\n",
       "  </tbody>\n",
       "</table>\n",
       "</div>"
      ],
      "text/plain": [
       "   user_id first_name  last_name  age state  month  tariff_id  churn\n",
       "0     1000   Anamaria      Bauer   45    GA     12          1      0\n",
       "1     1001     Mickey  Wilkerson   28    WA      8          0      0\n",
       "2     1002     Carlee    Hoffman   36    NV     10          0      0\n",
       "3     1003   Reynaldo    Jenkins   52    OK      1          0      0\n",
       "4     1004    Leonila   Thompson   40    WA      5          0      0"
      ]
     },
     "execution_count": 18,
     "metadata": {},
     "output_type": "execute_result"
    }
   ],
   "source": [
    "users_data.head()"
   ]
  },
  {
   "cell_type": "markdown",
   "metadata": {
    "heading_collapsed": true,
    "hidden": true
   },
   "source": [
    "## Calls_data "
   ]
  },
  {
   "cell_type": "code",
   "execution_count": 19,
   "metadata": {
    "hidden": true
   },
   "outputs": [
    {
     "name": "stdout",
     "output_type": "stream",
     "text": [
      "<class 'pandas.core.frame.DataFrame'>\n",
      "RangeIndex: 137735 entries, 0 to 137734\n",
      "Data columns (total 4 columns):\n",
      " #   Column     Non-Null Count   Dtype         \n",
      "---  ------     --------------   -----         \n",
      " 0   id         137735 non-null  object        \n",
      " 1   user_id    137735 non-null  int64         \n",
      " 2   call_date  137735 non-null  datetime64[ns]\n",
      " 3   duration   137735 non-null  float64       \n",
      "dtypes: datetime64[ns](1), float64(1), int64(1), object(1)\n",
      "memory usage: 4.2+ MB\n"
     ]
    }
   ],
   "source": [
    "# Print the general/summary information about the calls' DataFrame\n",
    "calls_data.info()\n"
   ]
  },
  {
   "cell_type": "markdown",
   "metadata": {
    "hidden": true
   },
   "source": [
    "**Comment:** useful info needed from calls_data \n",
    "\n",
    "- total and average call duration for each user. \n",
    "\n",
    "- add a call_count for each user. \n",
    "\n"
   ]
  },
  {
   "cell_type": "code",
   "execution_count": 20,
   "metadata": {
    "hidden": true
   },
   "outputs": [
    {
     "data": {
      "text/plain": [
       "array([1000, 1001, 1002, 1003, 1004, 1005, 1006, 1007, 1008, 1009, 1010,\n",
       "       1011, 1012, 1013, 1014, 1015, 1016, 1017, 1018, 1019, 1020, 1021,\n",
       "       1022, 1023, 1024, 1026, 1027, 1028, 1029, 1030, 1031, 1032, 1033,\n",
       "       1034, 1035, 1036, 1037, 1038, 1039, 1040, 1041, 1042, 1043, 1044,\n",
       "       1045, 1046, 1047, 1048, 1049, 1050, 1051, 1052, 1053, 1054, 1055,\n",
       "       1056, 1057, 1058, 1059, 1060, 1061, 1062, 1063, 1064, 1065, 1066,\n",
       "       1067, 1068, 1069, 1070, 1071, 1072, 1073, 1074, 1075, 1076, 1077,\n",
       "       1078, 1079, 1081, 1082, 1083, 1084, 1085, 1086, 1087, 1088, 1090,\n",
       "       1091, 1092, 1093, 1094, 1095, 1096, 1097, 1098, 1099, 1100, 1101,\n",
       "       1102, 1103, 1104, 1105, 1106, 1107, 1109, 1110, 1111, 1112, 1113,\n",
       "       1114, 1115, 1116, 1117, 1118, 1119, 1120, 1122, 1123, 1124, 1125,\n",
       "       1126, 1127, 1128, 1130, 1132, 1133, 1134, 1135, 1136, 1138, 1139,\n",
       "       1140, 1141, 1142, 1144, 1145, 1146, 1147, 1148, 1149, 1150, 1151,\n",
       "       1152, 1153, 1154, 1155, 1156, 1157, 1158, 1159, 1160, 1161, 1162,\n",
       "       1163, 1164, 1165, 1166, 1167, 1168, 1169, 1170, 1171, 1172, 1173,\n",
       "       1174, 1175, 1176, 1177, 1178, 1179, 1180, 1181, 1182, 1183, 1184,\n",
       "       1185, 1186, 1187, 1188, 1189, 1190, 1191, 1192, 1193, 1195, 1196,\n",
       "       1197, 1198, 1199, 1200, 1201, 1202, 1203, 1205, 1206, 1207, 1208,\n",
       "       1209, 1210, 1211, 1212, 1213, 1214, 1215, 1216, 1217, 1218, 1219,\n",
       "       1220, 1221, 1222, 1223, 1224, 1225, 1226, 1227, 1228, 1229, 1230,\n",
       "       1231, 1232, 1233, 1234, 1235, 1236, 1237, 1238, 1239, 1240, 1241,\n",
       "       1242, 1243, 1244, 1245, 1246, 1247, 1248, 1249, 1250, 1251, 1252,\n",
       "       1253, 1254, 1255, 1256, 1257, 1258, 1259, 1260, 1261, 1262, 1263,\n",
       "       1264, 1265, 1266, 1267, 1268, 1270, 1271, 1272, 1273, 1274, 1276,\n",
       "       1277, 1278, 1279, 1280, 1281, 1282, 1283, 1284, 1285, 1286, 1287,\n",
       "       1288, 1289, 1290, 1291, 1292, 1293, 1294, 1295, 1296, 1297, 1298,\n",
       "       1299, 1300, 1301, 1302, 1303, 1304, 1305, 1306, 1308, 1309, 1310,\n",
       "       1311, 1312, 1313, 1314, 1315, 1316, 1317, 1318, 1320, 1321, 1322,\n",
       "       1323, 1324, 1325, 1326, 1327, 1328, 1329, 1330, 1331, 1332, 1333,\n",
       "       1334, 1335, 1336, 1337, 1338, 1339, 1340, 1341, 1342, 1343, 1344,\n",
       "       1345, 1346, 1347, 1348, 1350, 1351, 1352, 1353, 1354, 1355, 1356,\n",
       "       1357, 1358, 1359, 1360, 1361, 1362, 1363, 1364, 1365, 1366, 1367,\n",
       "       1368, 1369, 1370, 1371, 1372, 1373, 1374, 1375, 1376, 1377, 1379,\n",
       "       1380, 1381, 1382, 1383, 1384, 1385, 1386, 1387, 1388, 1389, 1390,\n",
       "       1391, 1392, 1393, 1394, 1395, 1396, 1397, 1398, 1399, 1400, 1401,\n",
       "       1402, 1403, 1404, 1405, 1406, 1407, 1408, 1409, 1410, 1411, 1412,\n",
       "       1413, 1414, 1415, 1416, 1417, 1418, 1419, 1420, 1421, 1422, 1423,\n",
       "       1424, 1425, 1426, 1427, 1428, 1429, 1430, 1431, 1432, 1433, 1434,\n",
       "       1435, 1436, 1437, 1438, 1439, 1440, 1441, 1442, 1443, 1444, 1445,\n",
       "       1446, 1447, 1448, 1449, 1450, 1451, 1452, 1453, 1454, 1455, 1456,\n",
       "       1457, 1458, 1459, 1460, 1461, 1462, 1464, 1465, 1466, 1467, 1468,\n",
       "       1469, 1470, 1471, 1472, 1474, 1475, 1476, 1477, 1478, 1479, 1480,\n",
       "       1481, 1482, 1483, 1484, 1485, 1486, 1487, 1488, 1489, 1490, 1491,\n",
       "       1492, 1493, 1494, 1495, 1496, 1497, 1498, 1499])"
      ]
     },
     "execution_count": 20,
     "metadata": {},
     "output_type": "execute_result"
    }
   ],
   "source": [
    "calls_data['user_id'].unique()"
   ]
  },
  {
   "cell_type": "markdown",
   "metadata": {
    "heading_collapsed": true,
    "hidden": true
   },
   "source": [
    "### Enrich data"
   ]
  },
  {
   "cell_type": "code",
   "execution_count": 21,
   "metadata": {
    "hidden": true
   },
   "outputs": [],
   "source": [
    "calls_data['month'] = calls_data['call_date'].dt.month"
   ]
  },
  {
   "cell_type": "code",
   "execution_count": 22,
   "metadata": {
    "hidden": true
   },
   "outputs": [],
   "source": [
    "calls_data['day'] = calls_data['call_date'].dt.day"
   ]
  },
  {
   "cell_type": "code",
   "execution_count": 23,
   "metadata": {
    "hidden": true,
    "scrolled": true
   },
   "outputs": [
    {
     "name": "stdout",
     "output_type": "stream",
     "text": [
      "<class 'pandas.core.frame.DataFrame'>\n",
      "RangeIndex: 137735 entries, 0 to 137734\n",
      "Data columns (total 6 columns):\n",
      " #   Column     Non-Null Count   Dtype         \n",
      "---  ------     --------------   -----         \n",
      " 0   id         137735 non-null  object        \n",
      " 1   user_id    137735 non-null  int64         \n",
      " 2   call_date  137735 non-null  datetime64[ns]\n",
      " 3   duration   137735 non-null  float64       \n",
      " 4   month      137735 non-null  int64         \n",
      " 5   day        137735 non-null  int64         \n",
      "dtypes: datetime64[ns](1), float64(1), int64(3), object(1)\n",
      "memory usage: 6.3+ MB\n"
     ]
    }
   ],
   "source": [
    "calls_data.info()"
   ]
  },
  {
   "cell_type": "code",
   "execution_count": 24,
   "metadata": {
    "hidden": true
   },
   "outputs": [
    {
     "data": {
      "text/html": [
       "<div>\n",
       "<style scoped>\n",
       "    .dataframe tbody tr th:only-of-type {\n",
       "        vertical-align: middle;\n",
       "    }\n",
       "\n",
       "    .dataframe tbody tr th {\n",
       "        vertical-align: top;\n",
       "    }\n",
       "\n",
       "    .dataframe thead th {\n",
       "        text-align: right;\n",
       "    }\n",
       "</style>\n",
       "<table border=\"1\" class=\"dataframe\">\n",
       "  <thead>\n",
       "    <tr style=\"text-align: right;\">\n",
       "      <th></th>\n",
       "      <th>id</th>\n",
       "      <th>user_id</th>\n",
       "      <th>call_date</th>\n",
       "      <th>duration</th>\n",
       "      <th>month</th>\n",
       "      <th>day</th>\n",
       "    </tr>\n",
       "  </thead>\n",
       "  <tbody>\n",
       "    <tr>\n",
       "      <th>62079</th>\n",
       "      <td>1223_248</td>\n",
       "      <td>1223</td>\n",
       "      <td>2018-12-23</td>\n",
       "      <td>7.35</td>\n",
       "      <td>12</td>\n",
       "      <td>23</td>\n",
       "    </tr>\n",
       "    <tr>\n",
       "      <th>21635</th>\n",
       "      <td>1079_348</td>\n",
       "      <td>1079</td>\n",
       "      <td>2018-10-12</td>\n",
       "      <td>9.39</td>\n",
       "      <td>10</td>\n",
       "      <td>12</td>\n",
       "    </tr>\n",
       "    <tr>\n",
       "      <th>10797</th>\n",
       "      <td>1048_219</td>\n",
       "      <td>1048</td>\n",
       "      <td>2018-09-19</td>\n",
       "      <td>3.50</td>\n",
       "      <td>9</td>\n",
       "      <td>19</td>\n",
       "    </tr>\n",
       "    <tr>\n",
       "      <th>86563</th>\n",
       "      <td>1320_232</td>\n",
       "      <td>1320</td>\n",
       "      <td>2018-08-22</td>\n",
       "      <td>8.03</td>\n",
       "      <td>8</td>\n",
       "      <td>22</td>\n",
       "    </tr>\n",
       "    <tr>\n",
       "      <th>130997</th>\n",
       "      <td>1470_446</td>\n",
       "      <td>1470</td>\n",
       "      <td>2018-10-19</td>\n",
       "      <td>3.45</td>\n",
       "      <td>10</td>\n",
       "      <td>19</td>\n",
       "    </tr>\n",
       "  </tbody>\n",
       "</table>\n",
       "</div>"
      ],
      "text/plain": [
       "              id  user_id  call_date  duration  month  day\n",
       "62079   1223_248     1223 2018-12-23      7.35     12   23\n",
       "21635   1079_348     1079 2018-10-12      9.39     10   12\n",
       "10797   1048_219     1048 2018-09-19      3.50      9   19\n",
       "86563   1320_232     1320 2018-08-22      8.03      8   22\n",
       "130997  1470_446     1470 2018-10-19      3.45     10   19"
      ]
     },
     "execution_count": 24,
     "metadata": {},
     "output_type": "execute_result"
    }
   ],
   "source": [
    "calls_data.sample(5)"
   ]
  },
  {
   "cell_type": "markdown",
   "metadata": {
    "heading_collapsed": true,
    "hidden": true
   },
   "source": [
    "## Messages_data"
   ]
  },
  {
   "cell_type": "code",
   "execution_count": 25,
   "metadata": {
    "hidden": true
   },
   "outputs": [
    {
     "name": "stdout",
     "output_type": "stream",
     "text": [
      "<class 'pandas.core.frame.DataFrame'>\n",
      "RangeIndex: 76051 entries, 0 to 76050\n",
      "Data columns (total 3 columns):\n",
      " #   Column        Non-Null Count  Dtype         \n",
      "---  ------        --------------  -----         \n",
      " 0   id            76051 non-null  object        \n",
      " 1   user_id       76051 non-null  int64         \n",
      " 2   message_date  76051 non-null  datetime64[ns]\n",
      "dtypes: datetime64[ns](1), int64(1), object(1)\n",
      "memory usage: 1.7+ MB\n"
     ]
    }
   ],
   "source": [
    "# Print the general/summary information about the messages' DataFrame\n",
    "\n",
    "messages_data.info()"
   ]
  },
  {
   "cell_type": "code",
   "execution_count": 26,
   "metadata": {
    "hidden": true
   },
   "outputs": [
    {
     "data": {
      "text/html": [
       "<div>\n",
       "<style scoped>\n",
       "    .dataframe tbody tr th:only-of-type {\n",
       "        vertical-align: middle;\n",
       "    }\n",
       "\n",
       "    .dataframe tbody tr th {\n",
       "        vertical-align: top;\n",
       "    }\n",
       "\n",
       "    .dataframe thead th {\n",
       "        text-align: right;\n",
       "    }\n",
       "</style>\n",
       "<table border=\"1\" class=\"dataframe\">\n",
       "  <thead>\n",
       "    <tr style=\"text-align: right;\">\n",
       "      <th></th>\n",
       "      <th>id</th>\n",
       "      <th>user_id</th>\n",
       "      <th>message_date</th>\n",
       "    </tr>\n",
       "  </thead>\n",
       "  <tbody>\n",
       "    <tr>\n",
       "      <th>10363</th>\n",
       "      <td>1076_831</td>\n",
       "      <td>1076</td>\n",
       "      <td>2018-09-10</td>\n",
       "    </tr>\n",
       "    <tr>\n",
       "      <th>48788</th>\n",
       "      <td>1326_325</td>\n",
       "      <td>1326</td>\n",
       "      <td>2018-12-03</td>\n",
       "    </tr>\n",
       "    <tr>\n",
       "      <th>48064</th>\n",
       "      <td>1324_794</td>\n",
       "      <td>1324</td>\n",
       "      <td>2018-05-19</td>\n",
       "    </tr>\n",
       "    <tr>\n",
       "      <th>72238</th>\n",
       "      <td>1468_75</td>\n",
       "      <td>1468</td>\n",
       "      <td>2018-12-03</td>\n",
       "    </tr>\n",
       "    <tr>\n",
       "      <th>50265</th>\n",
       "      <td>1328_1223</td>\n",
       "      <td>1328</td>\n",
       "      <td>2018-08-14</td>\n",
       "    </tr>\n",
       "  </tbody>\n",
       "</table>\n",
       "</div>"
      ],
      "text/plain": [
       "              id  user_id message_date\n",
       "10363   1076_831     1076   2018-09-10\n",
       "48788   1326_325     1326   2018-12-03\n",
       "48064   1324_794     1324   2018-05-19\n",
       "72238    1468_75     1468   2018-12-03\n",
       "50265  1328_1223     1328   2018-08-14"
      ]
     },
     "execution_count": 26,
     "metadata": {},
     "output_type": "execute_result"
    }
   ],
   "source": [
    "# Print a sample of data for messages\n",
    "\n",
    "messages_data.sample(5)"
   ]
  },
  {
   "cell_type": "markdown",
   "metadata": {
    "heading_collapsed": true,
    "hidden": true
   },
   "source": [
    "### Enrich data"
   ]
  },
  {
   "cell_type": "code",
   "execution_count": 27,
   "metadata": {
    "hidden": true
   },
   "outputs": [],
   "source": [
    "messages_data['month'] = messages_data['message_date'].dt.month"
   ]
  },
  {
   "cell_type": "code",
   "execution_count": 28,
   "metadata": {
    "hidden": true
   },
   "outputs": [],
   "source": [
    "messages_data['message_day'] = messages_data['message_date'].dt.day"
   ]
  },
  {
   "cell_type": "code",
   "execution_count": 29,
   "metadata": {
    "hidden": true
   },
   "outputs": [
    {
     "data": {
      "text/html": [
       "<div>\n",
       "<style scoped>\n",
       "    .dataframe tbody tr th:only-of-type {\n",
       "        vertical-align: middle;\n",
       "    }\n",
       "\n",
       "    .dataframe tbody tr th {\n",
       "        vertical-align: top;\n",
       "    }\n",
       "\n",
       "    .dataframe thead th {\n",
       "        text-align: right;\n",
       "    }\n",
       "</style>\n",
       "<table border=\"1\" class=\"dataframe\">\n",
       "  <thead>\n",
       "    <tr style=\"text-align: right;\">\n",
       "      <th></th>\n",
       "      <th>id</th>\n",
       "      <th>user_id</th>\n",
       "      <th>message_date</th>\n",
       "      <th>month</th>\n",
       "      <th>message_day</th>\n",
       "    </tr>\n",
       "  </thead>\n",
       "  <tbody>\n",
       "    <tr>\n",
       "      <th>17675</th>\n",
       "      <td>1114_775</td>\n",
       "      <td>1114</td>\n",
       "      <td>2018-08-06</td>\n",
       "      <td>8</td>\n",
       "      <td>6</td>\n",
       "    </tr>\n",
       "    <tr>\n",
       "      <th>71137</th>\n",
       "      <td>1464_248</td>\n",
       "      <td>1464</td>\n",
       "      <td>2018-12-31</td>\n",
       "      <td>12</td>\n",
       "      <td>31</td>\n",
       "    </tr>\n",
       "    <tr>\n",
       "      <th>1524</th>\n",
       "      <td>1015_265</td>\n",
       "      <td>1015</td>\n",
       "      <td>2018-12-16</td>\n",
       "      <td>12</td>\n",
       "      <td>16</td>\n",
       "    </tr>\n",
       "    <tr>\n",
       "      <th>70491</th>\n",
       "      <td>1458_197</td>\n",
       "      <td>1458</td>\n",
       "      <td>2018-12-01</td>\n",
       "      <td>12</td>\n",
       "      <td>1</td>\n",
       "    </tr>\n",
       "    <tr>\n",
       "      <th>29761</th>\n",
       "      <td>1183_156</td>\n",
       "      <td>1183</td>\n",
       "      <td>2018-12-18</td>\n",
       "      <td>12</td>\n",
       "      <td>18</td>\n",
       "    </tr>\n",
       "  </tbody>\n",
       "</table>\n",
       "</div>"
      ],
      "text/plain": [
       "             id  user_id message_date  month  message_day\n",
       "17675  1114_775     1114   2018-08-06      8            6\n",
       "71137  1464_248     1464   2018-12-31     12           31\n",
       "1524   1015_265     1015   2018-12-16     12           16\n",
       "70491  1458_197     1458   2018-12-01     12            1\n",
       "29761  1183_156     1183   2018-12-18     12           18"
      ]
     },
     "execution_count": 29,
     "metadata": {},
     "output_type": "execute_result"
    }
   ],
   "source": [
    "messages_data.sample(5)"
   ]
  },
  {
   "cell_type": "markdown",
   "metadata": {
    "hidden": true
   },
   "source": [
    "## Internet_data"
   ]
  },
  {
   "cell_type": "code",
   "execution_count": 30,
   "metadata": {
    "hidden": true
   },
   "outputs": [
    {
     "name": "stdout",
     "output_type": "stream",
     "text": [
      "<class 'pandas.core.frame.DataFrame'>\n",
      "RangeIndex: 104825 entries, 0 to 104824\n",
      "Data columns (total 4 columns):\n",
      " #   Column        Non-Null Count   Dtype         \n",
      "---  ------        --------------   -----         \n",
      " 0   id            104825 non-null  object        \n",
      " 1   user_id       104825 non-null  int64         \n",
      " 2   session_date  104825 non-null  datetime64[ns]\n",
      " 3   mb_used       104825 non-null  float64       \n",
      "dtypes: datetime64[ns](1), float64(1), int64(1), object(1)\n",
      "memory usage: 3.2+ MB\n"
     ]
    }
   ],
   "source": [
    "# Print the general/summary information about the internet DataFrame\n",
    "\n",
    "internet_data.info()"
   ]
  },
  {
   "cell_type": "code",
   "execution_count": 31,
   "metadata": {
    "hidden": true,
    "scrolled": true
   },
   "outputs": [
    {
     "data": {
      "text/html": [
       "<div>\n",
       "<style scoped>\n",
       "    .dataframe tbody tr th:only-of-type {\n",
       "        vertical-align: middle;\n",
       "    }\n",
       "\n",
       "    .dataframe tbody tr th {\n",
       "        vertical-align: top;\n",
       "    }\n",
       "\n",
       "    .dataframe thead th {\n",
       "        text-align: right;\n",
       "    }\n",
       "</style>\n",
       "<table border=\"1\" class=\"dataframe\">\n",
       "  <thead>\n",
       "    <tr style=\"text-align: right;\">\n",
       "      <th></th>\n",
       "      <th>id</th>\n",
       "      <th>user_id</th>\n",
       "      <th>session_date</th>\n",
       "      <th>mb_used</th>\n",
       "    </tr>\n",
       "  </thead>\n",
       "  <tbody>\n",
       "    <tr>\n",
       "      <th>0</th>\n",
       "      <td>1000_13</td>\n",
       "      <td>1000</td>\n",
       "      <td>2018-12-29</td>\n",
       "      <td>89.86</td>\n",
       "    </tr>\n",
       "    <tr>\n",
       "      <th>1</th>\n",
       "      <td>1000_204</td>\n",
       "      <td>1000</td>\n",
       "      <td>2018-12-31</td>\n",
       "      <td>0.00</td>\n",
       "    </tr>\n",
       "    <tr>\n",
       "      <th>2</th>\n",
       "      <td>1000_379</td>\n",
       "      <td>1000</td>\n",
       "      <td>2018-12-28</td>\n",
       "      <td>660.40</td>\n",
       "    </tr>\n",
       "    <tr>\n",
       "      <th>3</th>\n",
       "      <td>1000_413</td>\n",
       "      <td>1000</td>\n",
       "      <td>2018-12-26</td>\n",
       "      <td>270.99</td>\n",
       "    </tr>\n",
       "    <tr>\n",
       "      <th>4</th>\n",
       "      <td>1000_442</td>\n",
       "      <td>1000</td>\n",
       "      <td>2018-12-27</td>\n",
       "      <td>880.22</td>\n",
       "    </tr>\n",
       "  </tbody>\n",
       "</table>\n",
       "</div>"
      ],
      "text/plain": [
       "         id  user_id session_date  mb_used\n",
       "0   1000_13     1000   2018-12-29    89.86\n",
       "1  1000_204     1000   2018-12-31     0.00\n",
       "2  1000_379     1000   2018-12-28   660.40\n",
       "3  1000_413     1000   2018-12-26   270.99\n",
       "4  1000_442     1000   2018-12-27   880.22"
      ]
     },
     "execution_count": 31,
     "metadata": {},
     "output_type": "execute_result"
    }
   ],
   "source": [
    "# Print a sample of data for the internet traffic\n",
    "\n",
    "internet_data.head()"
   ]
  },
  {
   "cell_type": "markdown",
   "metadata": {
    "hidden": true
   },
   "source": [
    "### Enrich data"
   ]
  },
  {
   "cell_type": "code",
   "execution_count": 32,
   "metadata": {
    "hidden": true
   },
   "outputs": [],
   "source": [
    "internet_data['month'] = internet_data['session_date'].dt.month"
   ]
  },
  {
   "cell_type": "code",
   "execution_count": 33,
   "metadata": {
    "hidden": true
   },
   "outputs": [],
   "source": [
    "internet_data['day'] = internet_data['session_date'].dt.day"
   ]
  },
  {
   "cell_type": "code",
   "execution_count": 34,
   "metadata": {
    "hidden": true
   },
   "outputs": [
    {
     "data": {
      "text/html": [
       "<div>\n",
       "<style scoped>\n",
       "    .dataframe tbody tr th:only-of-type {\n",
       "        vertical-align: middle;\n",
       "    }\n",
       "\n",
       "    .dataframe tbody tr th {\n",
       "        vertical-align: top;\n",
       "    }\n",
       "\n",
       "    .dataframe thead th {\n",
       "        text-align: right;\n",
       "    }\n",
       "</style>\n",
       "<table border=\"1\" class=\"dataframe\">\n",
       "  <thead>\n",
       "    <tr style=\"text-align: right;\">\n",
       "      <th></th>\n",
       "      <th>id</th>\n",
       "      <th>user_id</th>\n",
       "      <th>session_date</th>\n",
       "      <th>mb_used</th>\n",
       "      <th>month</th>\n",
       "      <th>day</th>\n",
       "    </tr>\n",
       "  </thead>\n",
       "  <tbody>\n",
       "    <tr>\n",
       "      <th>0</th>\n",
       "      <td>1000_13</td>\n",
       "      <td>1000</td>\n",
       "      <td>2018-12-29</td>\n",
       "      <td>89.86</td>\n",
       "      <td>12</td>\n",
       "      <td>29</td>\n",
       "    </tr>\n",
       "    <tr>\n",
       "      <th>1</th>\n",
       "      <td>1000_204</td>\n",
       "      <td>1000</td>\n",
       "      <td>2018-12-31</td>\n",
       "      <td>0.00</td>\n",
       "      <td>12</td>\n",
       "      <td>31</td>\n",
       "    </tr>\n",
       "    <tr>\n",
       "      <th>2</th>\n",
       "      <td>1000_379</td>\n",
       "      <td>1000</td>\n",
       "      <td>2018-12-28</td>\n",
       "      <td>660.40</td>\n",
       "      <td>12</td>\n",
       "      <td>28</td>\n",
       "    </tr>\n",
       "    <tr>\n",
       "      <th>3</th>\n",
       "      <td>1000_413</td>\n",
       "      <td>1000</td>\n",
       "      <td>2018-12-26</td>\n",
       "      <td>270.99</td>\n",
       "      <td>12</td>\n",
       "      <td>26</td>\n",
       "    </tr>\n",
       "    <tr>\n",
       "      <th>4</th>\n",
       "      <td>1000_442</td>\n",
       "      <td>1000</td>\n",
       "      <td>2018-12-27</td>\n",
       "      <td>880.22</td>\n",
       "      <td>12</td>\n",
       "      <td>27</td>\n",
       "    </tr>\n",
       "  </tbody>\n",
       "</table>\n",
       "</div>"
      ],
      "text/plain": [
       "         id  user_id session_date  mb_used  month  day\n",
       "0   1000_13     1000   2018-12-29    89.86     12   29\n",
       "1  1000_204     1000   2018-12-31     0.00     12   31\n",
       "2  1000_379     1000   2018-12-28   660.40     12   28\n",
       "3  1000_413     1000   2018-12-26   270.99     12   26\n",
       "4  1000_442     1000   2018-12-27   880.22     12   27"
      ]
     },
     "execution_count": 34,
     "metadata": {},
     "output_type": "execute_result"
    }
   ],
   "source": [
    "internet_data.head()"
   ]
  },
  {
   "cell_type": "markdown",
   "metadata": {},
   "source": [
    "# EDA"
   ]
  },
  {
   "cell_type": "markdown",
   "metadata": {},
   "source": [
    "## Study plan conditions"
   ]
  },
  {
   "cell_type": "code",
   "execution_count": 79,
   "metadata": {},
   "outputs": [
    {
     "data": {
      "text/html": [
       "<div>\n",
       "<style scoped>\n",
       "    .dataframe tbody tr th:only-of-type {\n",
       "        vertical-align: middle;\n",
       "    }\n",
       "\n",
       "    .dataframe tbody tr th {\n",
       "        vertical-align: top;\n",
       "    }\n",
       "\n",
       "    .dataframe thead th {\n",
       "        text-align: right;\n",
       "    }\n",
       "</style>\n",
       "<table border=\"1\" class=\"dataframe\">\n",
       "  <thead>\n",
       "    <tr style=\"text-align: right;\">\n",
       "      <th></th>\n",
       "      <th>messages_included</th>\n",
       "      <th>mb_per_month_included</th>\n",
       "      <th>minutes_included</th>\n",
       "      <th>usd_monthly_pay</th>\n",
       "      <th>usd_per_gb</th>\n",
       "      <th>usd_per_message</th>\n",
       "      <th>usd_per_minute</th>\n",
       "      <th>plan_name</th>\n",
       "      <th>gb_per_month_included</th>\n",
       "    </tr>\n",
       "  </thead>\n",
       "  <tbody>\n",
       "    <tr>\n",
       "      <th>0</th>\n",
       "      <td>50</td>\n",
       "      <td>15360</td>\n",
       "      <td>500</td>\n",
       "      <td>20</td>\n",
       "      <td>10</td>\n",
       "      <td>0.03</td>\n",
       "      <td>0.03</td>\n",
       "      <td>surf</td>\n",
       "      <td>15.36</td>\n",
       "    </tr>\n",
       "    <tr>\n",
       "      <th>1</th>\n",
       "      <td>1000</td>\n",
       "      <td>30720</td>\n",
       "      <td>3000</td>\n",
       "      <td>70</td>\n",
       "      <td>7</td>\n",
       "      <td>0.01</td>\n",
       "      <td>0.01</td>\n",
       "      <td>ultimate</td>\n",
       "      <td>30.72</td>\n",
       "    </tr>\n",
       "  </tbody>\n",
       "</table>\n",
       "</div>"
      ],
      "text/plain": [
       "   messages_included  mb_per_month_included  minutes_included  \\\n",
       "0                 50                  15360               500   \n",
       "1               1000                  30720              3000   \n",
       "\n",
       "   usd_monthly_pay  usd_per_gb  usd_per_message  usd_per_minute plan_name  \\\n",
       "0               20          10             0.03            0.03      surf   \n",
       "1               70           7             0.01            0.01  ultimate   \n",
       "\n",
       "   gb_per_month_included  \n",
       "0                  15.36  \n",
       "1                  30.72  "
      ]
     },
     "execution_count": 79,
     "metadata": {},
     "output_type": "execute_result"
    }
   ],
   "source": [
    "# Print out the plan conditions and make sure they are clear for you\n",
    "plans_data['gb_per_month_included'] = plans_data['mb_per_month_included']/1000\n",
    "\n",
    "plans_data"
   ]
  },
  {
   "cell_type": "markdown",
   "metadata": {},
   "source": [
    "### calls_data analysis"
   ]
  },
  {
   "cell_type": "markdown",
   "metadata": {},
   "source": [
    "##### User_id per month "
   ]
  },
  {
   "cell_type": "code",
   "execution_count": 43,
   "metadata": {},
   "outputs": [
    {
     "data": {
      "text/html": [
       "<div>\n",
       "<style scoped>\n",
       "    .dataframe tbody tr th:only-of-type {\n",
       "        vertical-align: middle;\n",
       "    }\n",
       "\n",
       "    .dataframe tbody tr th {\n",
       "        vertical-align: top;\n",
       "    }\n",
       "\n",
       "    .dataframe thead th {\n",
       "        text-align: right;\n",
       "    }\n",
       "</style>\n",
       "<table border=\"1\" class=\"dataframe\">\n",
       "  <thead>\n",
       "    <tr style=\"text-align: right;\">\n",
       "      <th></th>\n",
       "      <th></th>\n",
       "      <th>monthly_duration</th>\n",
       "    </tr>\n",
       "    <tr>\n",
       "      <th>user_id</th>\n",
       "      <th>month</th>\n",
       "      <th></th>\n",
       "    </tr>\n",
       "  </thead>\n",
       "  <tbody>\n",
       "    <tr>\n",
       "      <th>1000</th>\n",
       "      <th>12</th>\n",
       "      <td>116.83</td>\n",
       "    </tr>\n",
       "    <tr>\n",
       "      <th rowspan=\"5\" valign=\"top\">1001</th>\n",
       "      <th>8</th>\n",
       "      <td>171.14</td>\n",
       "    </tr>\n",
       "    <tr>\n",
       "      <th>9</th>\n",
       "      <td>297.69</td>\n",
       "    </tr>\n",
       "    <tr>\n",
       "      <th>10</th>\n",
       "      <td>374.11</td>\n",
       "    </tr>\n",
       "    <tr>\n",
       "      <th>11</th>\n",
       "      <td>404.59</td>\n",
       "    </tr>\n",
       "    <tr>\n",
       "      <th>12</th>\n",
       "      <td>392.93</td>\n",
       "    </tr>\n",
       "    <tr>\n",
       "      <th rowspan=\"3\" valign=\"top\">1002</th>\n",
       "      <th>10</th>\n",
       "      <td>54.13</td>\n",
       "    </tr>\n",
       "    <tr>\n",
       "      <th>11</th>\n",
       "      <td>359.76</td>\n",
       "    </tr>\n",
       "    <tr>\n",
       "      <th>12</th>\n",
       "      <td>363.24</td>\n",
       "    </tr>\n",
       "    <tr>\n",
       "      <th>1003</th>\n",
       "      <th>12</th>\n",
       "      <td>1041.00</td>\n",
       "    </tr>\n",
       "  </tbody>\n",
       "</table>\n",
       "</div>"
      ],
      "text/plain": [
       "               monthly_duration\n",
       "user_id month                  \n",
       "1000    12               116.83\n",
       "1001    8                171.14\n",
       "        9                297.69\n",
       "        10               374.11\n",
       "        11               404.59\n",
       "        12               392.93\n",
       "1002    10                54.13\n",
       "        11               359.76\n",
       "        12               363.24\n",
       "1003    12              1041.00"
      ]
     },
     "execution_count": 43,
     "metadata": {},
     "output_type": "execute_result"
    }
   ],
   "source": [
    "#grouping users and month by duration\n",
    "calls_grouped = calls_data.groupby(['user_id', 'month']).agg(monthly_duration=('duration', 'sum'))\n",
    "calls_grouped.head(10)"
   ]
  },
  {
   "cell_type": "code",
   "execution_count": 44,
   "metadata": {
    "scrolled": true
   },
   "outputs": [
    {
     "data": {
      "text/html": [
       "<div>\n",
       "<style scoped>\n",
       "    .dataframe tbody tr th:only-of-type {\n",
       "        vertical-align: middle;\n",
       "    }\n",
       "\n",
       "    .dataframe tbody tr th {\n",
       "        vertical-align: top;\n",
       "    }\n",
       "\n",
       "    .dataframe thead th {\n",
       "        text-align: right;\n",
       "    }\n",
       "</style>\n",
       "<table border=\"1\" class=\"dataframe\">\n",
       "  <thead>\n",
       "    <tr style=\"text-align: right;\">\n",
       "      <th></th>\n",
       "      <th></th>\n",
       "      <th>total_calls</th>\n",
       "    </tr>\n",
       "    <tr>\n",
       "      <th>user_id</th>\n",
       "      <th>month</th>\n",
       "      <th></th>\n",
       "    </tr>\n",
       "  </thead>\n",
       "  <tbody>\n",
       "    <tr>\n",
       "      <th>1000</th>\n",
       "      <th>12</th>\n",
       "      <td>16</td>\n",
       "    </tr>\n",
       "    <tr>\n",
       "      <th rowspan=\"5\" valign=\"top\">1001</th>\n",
       "      <th>8</th>\n",
       "      <td>27</td>\n",
       "    </tr>\n",
       "    <tr>\n",
       "      <th>9</th>\n",
       "      <td>49</td>\n",
       "    </tr>\n",
       "    <tr>\n",
       "      <th>10</th>\n",
       "      <td>65</td>\n",
       "    </tr>\n",
       "    <tr>\n",
       "      <th>11</th>\n",
       "      <td>64</td>\n",
       "    </tr>\n",
       "    <tr>\n",
       "      <th>12</th>\n",
       "      <td>56</td>\n",
       "    </tr>\n",
       "    <tr>\n",
       "      <th rowspan=\"3\" valign=\"top\">1002</th>\n",
       "      <th>10</th>\n",
       "      <td>11</td>\n",
       "    </tr>\n",
       "    <tr>\n",
       "      <th>11</th>\n",
       "      <td>55</td>\n",
       "    </tr>\n",
       "    <tr>\n",
       "      <th>12</th>\n",
       "      <td>47</td>\n",
       "    </tr>\n",
       "    <tr>\n",
       "      <th>1003</th>\n",
       "      <th>12</th>\n",
       "      <td>149</td>\n",
       "    </tr>\n",
       "  </tbody>\n",
       "</table>\n",
       "</div>"
      ],
      "text/plain": [
       "               total_calls\n",
       "user_id month             \n",
       "1000    12              16\n",
       "1001    8               27\n",
       "        9               49\n",
       "        10              65\n",
       "        11              64\n",
       "        12              56\n",
       "1002    10              11\n",
       "        11              55\n",
       "        12              47\n",
       "1003    12             149"
      ]
     },
     "execution_count": 44,
     "metadata": {},
     "output_type": "execute_result"
    }
   ],
   "source": [
    "total_calls = calls_data.groupby(['user_id', 'month']).agg(total_calls=('id', 'count'))\n",
    "total_calls.head(10)"
   ]
  },
  {
   "cell_type": "code",
   "execution_count": 39,
   "metadata": {
    "scrolled": true
   },
   "outputs": [
    {
     "data": {
      "text/html": [
       "<div>\n",
       "<style scoped>\n",
       "    .dataframe tbody tr th:only-of-type {\n",
       "        vertical-align: middle;\n",
       "    }\n",
       "\n",
       "    .dataframe tbody tr th {\n",
       "        vertical-align: top;\n",
       "    }\n",
       "\n",
       "    .dataframe thead th {\n",
       "        text-align: right;\n",
       "    }\n",
       "</style>\n",
       "<table border=\"1\" class=\"dataframe\">\n",
       "  <thead>\n",
       "    <tr style=\"text-align: right;\">\n",
       "      <th></th>\n",
       "      <th></th>\n",
       "      <th>monthly_messages</th>\n",
       "    </tr>\n",
       "    <tr>\n",
       "      <th>user_id</th>\n",
       "      <th>month</th>\n",
       "      <th></th>\n",
       "    </tr>\n",
       "  </thead>\n",
       "  <tbody>\n",
       "    <tr>\n",
       "      <th>1000</th>\n",
       "      <th>12</th>\n",
       "      <td>11</td>\n",
       "    </tr>\n",
       "    <tr>\n",
       "      <th rowspan=\"5\" valign=\"top\">1001</th>\n",
       "      <th>8</th>\n",
       "      <td>30</td>\n",
       "    </tr>\n",
       "    <tr>\n",
       "      <th>9</th>\n",
       "      <td>44</td>\n",
       "    </tr>\n",
       "    <tr>\n",
       "      <th>10</th>\n",
       "      <td>53</td>\n",
       "    </tr>\n",
       "    <tr>\n",
       "      <th>11</th>\n",
       "      <td>36</td>\n",
       "    </tr>\n",
       "    <tr>\n",
       "      <th>12</th>\n",
       "      <td>44</td>\n",
       "    </tr>\n",
       "    <tr>\n",
       "      <th rowspan=\"3\" valign=\"top\">1002</th>\n",
       "      <th>10</th>\n",
       "      <td>15</td>\n",
       "    </tr>\n",
       "    <tr>\n",
       "      <th>11</th>\n",
       "      <td>32</td>\n",
       "    </tr>\n",
       "    <tr>\n",
       "      <th>12</th>\n",
       "      <td>41</td>\n",
       "    </tr>\n",
       "    <tr>\n",
       "      <th>1003</th>\n",
       "      <th>12</th>\n",
       "      <td>50</td>\n",
       "    </tr>\n",
       "  </tbody>\n",
       "</table>\n",
       "</div>"
      ],
      "text/plain": [
       "               monthly_messages\n",
       "user_id month                  \n",
       "1000    12                   11\n",
       "1001    8                    30\n",
       "        9                    44\n",
       "        10                   53\n",
       "        11                   36\n",
       "        12                   44\n",
       "1002    10                   15\n",
       "        11                   32\n",
       "        12                   41\n",
       "1003    12                   50"
      ]
     },
     "execution_count": 39,
     "metadata": {},
     "output_type": "execute_result"
    }
   ],
   "source": [
    "messages_grouped = messages_data.groupby(['user_id', 'month']).agg(monthly_messages=('id', 'count'))\n",
    "messages_grouped.head(10)"
   ]
  },
  {
   "cell_type": "code",
   "execution_count": 80,
   "metadata": {
    "scrolled": true
   },
   "outputs": [
    {
     "data": {
      "text/html": [
       "<div>\n",
       "<style scoped>\n",
       "    .dataframe tbody tr th:only-of-type {\n",
       "        vertical-align: middle;\n",
       "    }\n",
       "\n",
       "    .dataframe tbody tr th {\n",
       "        vertical-align: top;\n",
       "    }\n",
       "\n",
       "    .dataframe thead th {\n",
       "        text-align: right;\n",
       "    }\n",
       "</style>\n",
       "<table border=\"1\" class=\"dataframe\">\n",
       "  <thead>\n",
       "    <tr style=\"text-align: right;\">\n",
       "      <th></th>\n",
       "      <th></th>\n",
       "      <th>monthly_mb</th>\n",
       "      <th>monthly_gb</th>\n",
       "    </tr>\n",
       "    <tr>\n",
       "      <th>user_id</th>\n",
       "      <th>month</th>\n",
       "      <th></th>\n",
       "      <th></th>\n",
       "    </tr>\n",
       "  </thead>\n",
       "  <tbody>\n",
       "    <tr>\n",
       "      <th>1000</th>\n",
       "      <th>12</th>\n",
       "      <td>1901.47</td>\n",
       "      <td>1.90147</td>\n",
       "    </tr>\n",
       "    <tr>\n",
       "      <th rowspan=\"4\" valign=\"top\">1001</th>\n",
       "      <th>8</th>\n",
       "      <td>6919.15</td>\n",
       "      <td>6.91915</td>\n",
       "    </tr>\n",
       "    <tr>\n",
       "      <th>9</th>\n",
       "      <td>13314.82</td>\n",
       "      <td>13.31482</td>\n",
       "    </tr>\n",
       "    <tr>\n",
       "      <th>10</th>\n",
       "      <td>22330.49</td>\n",
       "      <td>22.33049</td>\n",
       "    </tr>\n",
       "    <tr>\n",
       "      <th>11</th>\n",
       "      <td>18504.30</td>\n",
       "      <td>18.50430</td>\n",
       "    </tr>\n",
       "  </tbody>\n",
       "</table>\n",
       "</div>"
      ],
      "text/plain": [
       "               monthly_mb  monthly_gb\n",
       "user_id month                        \n",
       "1000    12        1901.47     1.90147\n",
       "1001    8         6919.15     6.91915\n",
       "        9        13314.82    13.31482\n",
       "        10       22330.49    22.33049\n",
       "        11       18504.30    18.50430"
      ]
     },
     "execution_count": 80,
     "metadata": {},
     "output_type": "execute_result"
    }
   ],
   "source": [
    "internet_grouped = internet_data.groupby(['user_id', 'month']).agg(monthly_mb=('mb_used', 'sum'))\n",
    "internet_grouped['monthly_gb'] = internet_grouped['monthly_mb']/1000\n",
    "internet_grouped.head()"
   ]
  },
  {
   "cell_type": "code",
   "execution_count": 46,
   "metadata": {
    "scrolled": true
   },
   "outputs": [
    {
     "data": {
      "text/html": [
       "<div>\n",
       "<style scoped>\n",
       "    .dataframe tbody tr th:only-of-type {\n",
       "        vertical-align: middle;\n",
       "    }\n",
       "\n",
       "    .dataframe tbody tr th {\n",
       "        vertical-align: top;\n",
       "    }\n",
       "\n",
       "    .dataframe thead th {\n",
       "        text-align: right;\n",
       "    }\n",
       "</style>\n",
       "<table border=\"1\" class=\"dataframe\">\n",
       "  <thead>\n",
       "    <tr style=\"text-align: right;\">\n",
       "      <th></th>\n",
       "      <th></th>\n",
       "      <th>state</th>\n",
       "      <th>plan</th>\n",
       "    </tr>\n",
       "    <tr>\n",
       "      <th>user_id</th>\n",
       "      <th>month</th>\n",
       "      <th></th>\n",
       "      <th></th>\n",
       "    </tr>\n",
       "  </thead>\n",
       "  <tbody>\n",
       "    <tr>\n",
       "      <th>1000</th>\n",
       "      <th>12</th>\n",
       "      <td>GA</td>\n",
       "      <td>1</td>\n",
       "    </tr>\n",
       "    <tr>\n",
       "      <th>1001</th>\n",
       "      <th>8</th>\n",
       "      <td>WA</td>\n",
       "      <td>0</td>\n",
       "    </tr>\n",
       "    <tr>\n",
       "      <th>1002</th>\n",
       "      <th>10</th>\n",
       "      <td>NV</td>\n",
       "      <td>0</td>\n",
       "    </tr>\n",
       "    <tr>\n",
       "      <th>1003</th>\n",
       "      <th>1</th>\n",
       "      <td>OK</td>\n",
       "      <td>0</td>\n",
       "    </tr>\n",
       "    <tr>\n",
       "      <th>1004</th>\n",
       "      <th>5</th>\n",
       "      <td>WA</td>\n",
       "      <td>0</td>\n",
       "    </tr>\n",
       "  </tbody>\n",
       "</table>\n",
       "</div>"
      ],
      "text/plain": [
       "              state  plan\n",
       "user_id month            \n",
       "1000    12       GA     1\n",
       "1001    8        WA     0\n",
       "1002    10       NV     0\n",
       "1003    1        OK     0\n",
       "1004    5        WA     0"
      ]
     },
     "execution_count": 46,
     "metadata": {},
     "output_type": "execute_result"
    }
   ],
   "source": [
    "users_plan = users_data.groupby(['user_id','month']).agg(state=('state', 'sum'),plan=('tariff_id', 'sum') )\n",
    "users_plan.head()"
   ]
  },
  {
   "cell_type": "markdown",
   "metadata": {},
   "source": [
    "##### Stats for customers by month. "
   ]
  },
  {
   "cell_type": "code",
   "execution_count": 83,
   "metadata": {},
   "outputs": [
    {
     "data": {
      "text/plain": [
       "monthly_duration     288\n",
       "monthly_messages     740\n",
       "monthly_mb           269\n",
       "monthly_gb           269\n",
       "total_calls          288\n",
       "state               2046\n",
       "plan                2046\n",
       "dtype: int64"
      ]
     },
     "execution_count": 83,
     "metadata": {},
     "output_type": "execute_result"
    }
   ],
   "source": [
    "monthly_stats = pd.concat([calls_grouped, messages_grouped, internet_grouped, total_calls, users_plan], axis=1, keys=['calls', 'messages', 'internet', 'total_calls', 'users_plan_1'])\n",
    "monthly_stats.columns = monthly_stats.columns.droplevel(0)\n",
    "monthly_stats.isna().sum()"
   ]
  },
  {
   "cell_type": "code",
   "execution_count": 84,
   "metadata": {
    "scrolled": true
   },
   "outputs": [
    {
     "data": {
      "text/html": [
       "<div>\n",
       "<style scoped>\n",
       "    .dataframe tbody tr th:only-of-type {\n",
       "        vertical-align: middle;\n",
       "    }\n",
       "\n",
       "    .dataframe tbody tr th {\n",
       "        vertical-align: top;\n",
       "    }\n",
       "\n",
       "    .dataframe thead th {\n",
       "        text-align: right;\n",
       "    }\n",
       "</style>\n",
       "<table border=\"1\" class=\"dataframe\">\n",
       "  <thead>\n",
       "    <tr style=\"text-align: right;\">\n",
       "      <th></th>\n",
       "      <th></th>\n",
       "      <th>monthly_duration</th>\n",
       "      <th>monthly_messages</th>\n",
       "      <th>monthly_mb</th>\n",
       "      <th>monthly_gb</th>\n",
       "      <th>total_calls</th>\n",
       "      <th>state</th>\n",
       "      <th>plan</th>\n",
       "    </tr>\n",
       "    <tr>\n",
       "      <th>user_id</th>\n",
       "      <th>month</th>\n",
       "      <th></th>\n",
       "      <th></th>\n",
       "      <th></th>\n",
       "      <th></th>\n",
       "      <th></th>\n",
       "      <th></th>\n",
       "      <th></th>\n",
       "    </tr>\n",
       "  </thead>\n",
       "  <tbody>\n",
       "    <tr>\n",
       "      <th>1000</th>\n",
       "      <th>12</th>\n",
       "      <td>116.83</td>\n",
       "      <td>11.0</td>\n",
       "      <td>1901.47</td>\n",
       "      <td>1.90147</td>\n",
       "      <td>16.0</td>\n",
       "      <td>GA</td>\n",
       "      <td>1.0</td>\n",
       "    </tr>\n",
       "    <tr>\n",
       "      <th rowspan=\"4\" valign=\"top\">1001</th>\n",
       "      <th>8</th>\n",
       "      <td>171.14</td>\n",
       "      <td>30.0</td>\n",
       "      <td>6919.15</td>\n",
       "      <td>6.91915</td>\n",
       "      <td>27.0</td>\n",
       "      <td>WA</td>\n",
       "      <td>0.0</td>\n",
       "    </tr>\n",
       "    <tr>\n",
       "      <th>9</th>\n",
       "      <td>297.69</td>\n",
       "      <td>44.0</td>\n",
       "      <td>13314.82</td>\n",
       "      <td>13.31482</td>\n",
       "      <td>49.0</td>\n",
       "      <td>NaN</td>\n",
       "      <td>NaN</td>\n",
       "    </tr>\n",
       "    <tr>\n",
       "      <th>10</th>\n",
       "      <td>374.11</td>\n",
       "      <td>53.0</td>\n",
       "      <td>22330.49</td>\n",
       "      <td>22.33049</td>\n",
       "      <td>65.0</td>\n",
       "      <td>NaN</td>\n",
       "      <td>NaN</td>\n",
       "    </tr>\n",
       "    <tr>\n",
       "      <th>11</th>\n",
       "      <td>404.59</td>\n",
       "      <td>36.0</td>\n",
       "      <td>18504.30</td>\n",
       "      <td>18.50430</td>\n",
       "      <td>64.0</td>\n",
       "      <td>NaN</td>\n",
       "      <td>NaN</td>\n",
       "    </tr>\n",
       "  </tbody>\n",
       "</table>\n",
       "</div>"
      ],
      "text/plain": [
       "               monthly_duration  monthly_messages  monthly_mb  monthly_gb  \\\n",
       "user_id month                                                               \n",
       "1000    12               116.83              11.0     1901.47     1.90147   \n",
       "1001    8                171.14              30.0     6919.15     6.91915   \n",
       "        9                297.69              44.0    13314.82    13.31482   \n",
       "        10               374.11              53.0    22330.49    22.33049   \n",
       "        11               404.59              36.0    18504.30    18.50430   \n",
       "\n",
       "               total_calls state  plan  \n",
       "user_id month                           \n",
       "1000    12            16.0    GA   1.0  \n",
       "1001    8             27.0    WA   0.0  \n",
       "        9             49.0   NaN   NaN  \n",
       "        10            65.0   NaN   NaN  \n",
       "        11            64.0   NaN   NaN  "
      ]
     },
     "execution_count": 84,
     "metadata": {},
     "output_type": "execute_result"
    }
   ],
   "source": [
    "monthly_stats.head()"
   ]
  },
  {
   "cell_type": "code",
   "execution_count": 85,
   "metadata": {},
   "outputs": [],
   "source": [
    "monthly_stats['state'] = monthly_stats['state'].ffill()\n",
    "monthly_stats['plan'] = monthly_stats['plan'].ffill()"
   ]
  },
  {
   "cell_type": "code",
   "execution_count": 86,
   "metadata": {},
   "outputs": [],
   "source": [
    "#other missing values are due to sum being 0 \n",
    "monthly_stats = monthly_stats.fillna(0)"
   ]
  },
  {
   "cell_type": "code",
   "execution_count": 87,
   "metadata": {},
   "outputs": [
    {
     "data": {
      "text/plain": [
       "monthly_duration    0\n",
       "monthly_messages    0\n",
       "monthly_mb          0\n",
       "monthly_gb          0\n",
       "total_calls         0\n",
       "state               0\n",
       "plan                0\n",
       "dtype: int64"
      ]
     },
     "execution_count": 87,
     "metadata": {},
     "output_type": "execute_result"
    }
   ],
   "source": [
    "monthly_stats.isna().sum()"
   ]
  },
  {
   "cell_type": "code",
   "execution_count": 88,
   "metadata": {
    "scrolled": true
   },
   "outputs": [
    {
     "data": {
      "text/html": [
       "<div>\n",
       "<style scoped>\n",
       "    .dataframe tbody tr th:only-of-type {\n",
       "        vertical-align: middle;\n",
       "    }\n",
       "\n",
       "    .dataframe tbody tr th {\n",
       "        vertical-align: top;\n",
       "    }\n",
       "\n",
       "    .dataframe thead th {\n",
       "        text-align: right;\n",
       "    }\n",
       "</style>\n",
       "<table border=\"1\" class=\"dataframe\">\n",
       "  <thead>\n",
       "    <tr style=\"text-align: right;\">\n",
       "      <th></th>\n",
       "      <th>messages_included</th>\n",
       "      <th>mb_per_month_included</th>\n",
       "      <th>minutes_included</th>\n",
       "      <th>usd_monthly_pay</th>\n",
       "      <th>usd_per_gb</th>\n",
       "      <th>usd_per_message</th>\n",
       "      <th>usd_per_minute</th>\n",
       "      <th>plan_name</th>\n",
       "      <th>gb_per_month_included</th>\n",
       "    </tr>\n",
       "  </thead>\n",
       "  <tbody>\n",
       "    <tr>\n",
       "      <th>0</th>\n",
       "      <td>50</td>\n",
       "      <td>15360</td>\n",
       "      <td>500</td>\n",
       "      <td>20</td>\n",
       "      <td>10</td>\n",
       "      <td>0.03</td>\n",
       "      <td>0.03</td>\n",
       "      <td>surf</td>\n",
       "      <td>15.36</td>\n",
       "    </tr>\n",
       "    <tr>\n",
       "      <th>1</th>\n",
       "      <td>1000</td>\n",
       "      <td>30720</td>\n",
       "      <td>3000</td>\n",
       "      <td>70</td>\n",
       "      <td>7</td>\n",
       "      <td>0.01</td>\n",
       "      <td>0.01</td>\n",
       "      <td>ultimate</td>\n",
       "      <td>30.72</td>\n",
       "    </tr>\n",
       "  </tbody>\n",
       "</table>\n",
       "</div>"
      ],
      "text/plain": [
       "   messages_included  mb_per_month_included  minutes_included  \\\n",
       "0                 50                  15360               500   \n",
       "1               1000                  30720              3000   \n",
       "\n",
       "   usd_monthly_pay  usd_per_gb  usd_per_message  usd_per_minute plan_name  \\\n",
       "0               20          10             0.03            0.03      surf   \n",
       "1               70           7             0.01            0.01  ultimate   \n",
       "\n",
       "   gb_per_month_included  \n",
       "0                  15.36  \n",
       "1                  30.72  "
      ]
     },
     "execution_count": 88,
     "metadata": {},
     "output_type": "execute_result"
    }
   ],
   "source": [
    "plans_data"
   ]
  },
  {
   "cell_type": "markdown",
   "metadata": {},
   "source": [
    "### `Stats` by plan"
   ]
  },
  {
   "cell_type": "code",
   "execution_count": 89,
   "metadata": {},
   "outputs": [],
   "source": [
    "surf_monthly_cost = 20\n",
    "ulti_monthly_cost = 70\n",
    "surf_mins_lim = 500\n",
    "ulti_mins_lim = 3000\n",
    "surf_mess_lim = 50\n",
    "ulti_mess_lim = 1000\n",
    "surf_gb_lim = 15.36\n",
    "ulti_gb_lim = 30.72"
   ]
  },
  {
   "cell_type": "code",
   "execution_count": 90,
   "metadata": {},
   "outputs": [],
   "source": [
    "stats_surf = monthly_stats.query('plan == 0').copy()\n",
    "stats_ulti = monthly_stats.query('plan == 1').copy()\n"
   ]
  },
  {
   "cell_type": "markdown",
   "metadata": {},
   "source": [
    "### mins over"
   ]
  },
  {
   "cell_type": "code",
   "execution_count": 91,
   "metadata": {},
   "outputs": [],
   "source": [
    "stats_surf.loc[:, 'min_over'] = stats_surf['monthly_duration'] - surf_mins_lim\n",
    "stats_ulti.loc[:, 'min_over'] = stats_ulti['monthly_duration'] - ulti_mins_lim\n",
    "\n",
    "stats_surf.loc[stats_surf['min_over'] < 0, 'min_over'] = 0\n",
    "stats_ulti.loc[stats_ulti['min_over'] < 0, 'min_over'] = 0"
   ]
  },
  {
   "cell_type": "markdown",
   "metadata": {},
   "source": [
    "### messages over "
   ]
  },
  {
   "cell_type": "code",
   "execution_count": 92,
   "metadata": {
    "scrolled": true
   },
   "outputs": [],
   "source": [
    "stats_surf.loc[:, 'mess_over'] = stats_surf['monthly_messages'] - surf_mess_lim\n",
    "stats_ulti.loc[:, 'mess_over'] = stats_ulti['monthly_messages'] - ulti_mess_lim\n",
    "\n",
    "stats_surf.loc[stats_surf['mess_over'] < 0, 'mess_over'] = 0\n",
    "stats_ulti.loc[stats_ulti['mess_over'] < 0, 'mess_over'] = 0"
   ]
  },
  {
   "cell_type": "markdown",
   "metadata": {},
   "source": [
    "### GB over"
   ]
  },
  {
   "cell_type": "code",
   "execution_count": 93,
   "metadata": {},
   "outputs": [],
   "source": [
    "stats_surf.loc[:, 'gb_over'] = stats_surf['monthly_gb'] - surf_gb_lim\n",
    "stats_ulti.loc[:, 'gb_over'] = stats_ulti['monthly_gb'] - ulti_gb_lim\n",
    "\n",
    "stats_surf.loc[stats_surf['gb_over'] < 0, 'gb_over'] = 0\n",
    "stats_ulti.loc[stats_ulti['gb_over'] < 0, 'gb_over'] = 0"
   ]
  },
  {
   "cell_type": "markdown",
   "metadata": {},
   "source": [
    "### base cost for plan"
   ]
  },
  {
   "cell_type": "code",
   "execution_count": 95,
   "metadata": {},
   "outputs": [
    {
     "data": {
      "text/html": [
       "<div>\n",
       "<style scoped>\n",
       "    .dataframe tbody tr th:only-of-type {\n",
       "        vertical-align: middle;\n",
       "    }\n",
       "\n",
       "    .dataframe tbody tr th {\n",
       "        vertical-align: top;\n",
       "    }\n",
       "\n",
       "    .dataframe thead th {\n",
       "        text-align: right;\n",
       "    }\n",
       "</style>\n",
       "<table border=\"1\" class=\"dataframe\">\n",
       "  <thead>\n",
       "    <tr style=\"text-align: right;\">\n",
       "      <th></th>\n",
       "      <th></th>\n",
       "      <th>monthly_duration</th>\n",
       "      <th>monthly_messages</th>\n",
       "      <th>monthly_mb</th>\n",
       "      <th>monthly_gb</th>\n",
       "      <th>total_calls</th>\n",
       "      <th>state</th>\n",
       "      <th>plan</th>\n",
       "      <th>min_over</th>\n",
       "      <th>mess_over</th>\n",
       "      <th>gb_over</th>\n",
       "    </tr>\n",
       "    <tr>\n",
       "      <th>user_id</th>\n",
       "      <th>month</th>\n",
       "      <th></th>\n",
       "      <th></th>\n",
       "      <th></th>\n",
       "      <th></th>\n",
       "      <th></th>\n",
       "      <th></th>\n",
       "      <th></th>\n",
       "      <th></th>\n",
       "      <th></th>\n",
       "      <th></th>\n",
       "    </tr>\n",
       "  </thead>\n",
       "  <tbody>\n",
       "    <tr>\n",
       "      <th rowspan=\"5\" valign=\"top\">1001</th>\n",
       "      <th>8</th>\n",
       "      <td>171.14</td>\n",
       "      <td>30.0</td>\n",
       "      <td>6919.15</td>\n",
       "      <td>6.91915</td>\n",
       "      <td>27.0</td>\n",
       "      <td>WA</td>\n",
       "      <td>0.0</td>\n",
       "      <td>0.0</td>\n",
       "      <td>0.0</td>\n",
       "      <td>0.00000</td>\n",
       "    </tr>\n",
       "    <tr>\n",
       "      <th>9</th>\n",
       "      <td>297.69</td>\n",
       "      <td>44.0</td>\n",
       "      <td>13314.82</td>\n",
       "      <td>13.31482</td>\n",
       "      <td>49.0</td>\n",
       "      <td>WA</td>\n",
       "      <td>0.0</td>\n",
       "      <td>0.0</td>\n",
       "      <td>0.0</td>\n",
       "      <td>0.00000</td>\n",
       "    </tr>\n",
       "    <tr>\n",
       "      <th>10</th>\n",
       "      <td>374.11</td>\n",
       "      <td>53.0</td>\n",
       "      <td>22330.49</td>\n",
       "      <td>22.33049</td>\n",
       "      <td>65.0</td>\n",
       "      <td>WA</td>\n",
       "      <td>0.0</td>\n",
       "      <td>0.0</td>\n",
       "      <td>3.0</td>\n",
       "      <td>6.97049</td>\n",
       "    </tr>\n",
       "    <tr>\n",
       "      <th>11</th>\n",
       "      <td>404.59</td>\n",
       "      <td>36.0</td>\n",
       "      <td>18504.30</td>\n",
       "      <td>18.50430</td>\n",
       "      <td>64.0</td>\n",
       "      <td>WA</td>\n",
       "      <td>0.0</td>\n",
       "      <td>0.0</td>\n",
       "      <td>0.0</td>\n",
       "      <td>3.14430</td>\n",
       "    </tr>\n",
       "    <tr>\n",
       "      <th>12</th>\n",
       "      <td>392.93</td>\n",
       "      <td>44.0</td>\n",
       "      <td>19369.18</td>\n",
       "      <td>19.36918</td>\n",
       "      <td>56.0</td>\n",
       "      <td>WA</td>\n",
       "      <td>0.0</td>\n",
       "      <td>0.0</td>\n",
       "      <td>0.0</td>\n",
       "      <td>4.00918</td>\n",
       "    </tr>\n",
       "    <tr>\n",
       "      <th>...</th>\n",
       "      <th>...</th>\n",
       "      <td>...</td>\n",
       "      <td>...</td>\n",
       "      <td>...</td>\n",
       "      <td>...</td>\n",
       "      <td>...</td>\n",
       "      <td>...</td>\n",
       "      <td>...</td>\n",
       "      <td>...</td>\n",
       "      <td>...</td>\n",
       "      <td>...</td>\n",
       "    </tr>\n",
       "    <tr>\n",
       "      <th>1489</th>\n",
       "      <th>5</th>\n",
       "      <td>0.00</td>\n",
       "      <td>0.0</td>\n",
       "      <td>0.00</td>\n",
       "      <td>0.00000</td>\n",
       "      <td>0.0</td>\n",
       "      <td>MI</td>\n",
       "      <td>0.0</td>\n",
       "      <td>0.0</td>\n",
       "      <td>0.0</td>\n",
       "      <td>0.00000</td>\n",
       "    </tr>\n",
       "    <tr>\n",
       "      <th>1492</th>\n",
       "      <th>3</th>\n",
       "      <td>0.00</td>\n",
       "      <td>0.0</td>\n",
       "      <td>0.00</td>\n",
       "      <td>0.00000</td>\n",
       "      <td>0.0</td>\n",
       "      <td>OR-WA</td>\n",
       "      <td>0.0</td>\n",
       "      <td>0.0</td>\n",
       "      <td>0.0</td>\n",
       "      <td>0.00000</td>\n",
       "    </tr>\n",
       "    <tr>\n",
       "      <th>1494</th>\n",
       "      <th>4</th>\n",
       "      <td>0.00</td>\n",
       "      <td>0.0</td>\n",
       "      <td>0.00</td>\n",
       "      <td>0.00000</td>\n",
       "      <td>0.0</td>\n",
       "      <td>NY-NJ-PA</td>\n",
       "      <td>0.0</td>\n",
       "      <td>0.0</td>\n",
       "      <td>0.0</td>\n",
       "      <td>0.00000</td>\n",
       "    </tr>\n",
       "    <tr>\n",
       "      <th>1496</th>\n",
       "      <th>2</th>\n",
       "      <td>0.00</td>\n",
       "      <td>0.0</td>\n",
       "      <td>0.00</td>\n",
       "      <td>0.00000</td>\n",
       "      <td>0.0</td>\n",
       "      <td>LA</td>\n",
       "      <td>0.0</td>\n",
       "      <td>0.0</td>\n",
       "      <td>0.0</td>\n",
       "      <td>0.00000</td>\n",
       "    </tr>\n",
       "    <tr>\n",
       "      <th>1499</th>\n",
       "      <th>5</th>\n",
       "      <td>0.00</td>\n",
       "      <td>0.0</td>\n",
       "      <td>0.00</td>\n",
       "      <td>0.00000</td>\n",
       "      <td>0.0</td>\n",
       "      <td>FL</td>\n",
       "      <td>0.0</td>\n",
       "      <td>0.0</td>\n",
       "      <td>0.0</td>\n",
       "      <td>0.00000</td>\n",
       "    </tr>\n",
       "  </tbody>\n",
       "</table>\n",
       "<p>1651 rows × 10 columns</p>\n",
       "</div>"
      ],
      "text/plain": [
       "               monthly_duration  monthly_messages  monthly_mb  monthly_gb  \\\n",
       "user_id month                                                               \n",
       "1001    8                171.14              30.0     6919.15     6.91915   \n",
       "        9                297.69              44.0    13314.82    13.31482   \n",
       "        10               374.11              53.0    22330.49    22.33049   \n",
       "        11               404.59              36.0    18504.30    18.50430   \n",
       "        12               392.93              44.0    19369.18    19.36918   \n",
       "...                         ...               ...         ...         ...   \n",
       "1489    5                  0.00               0.0        0.00     0.00000   \n",
       "1492    3                  0.00               0.0        0.00     0.00000   \n",
       "1494    4                  0.00               0.0        0.00     0.00000   \n",
       "1496    2                  0.00               0.0        0.00     0.00000   \n",
       "1499    5                  0.00               0.0        0.00     0.00000   \n",
       "\n",
       "               total_calls     state  plan  min_over  mess_over  gb_over  \n",
       "user_id month                                                             \n",
       "1001    8             27.0        WA   0.0       0.0        0.0  0.00000  \n",
       "        9             49.0        WA   0.0       0.0        0.0  0.00000  \n",
       "        10            65.0        WA   0.0       0.0        3.0  6.97049  \n",
       "        11            64.0        WA   0.0       0.0        0.0  3.14430  \n",
       "        12            56.0        WA   0.0       0.0        0.0  4.00918  \n",
       "...                    ...       ...   ...       ...        ...      ...  \n",
       "1489    5              0.0        MI   0.0       0.0        0.0  0.00000  \n",
       "1492    3              0.0     OR-WA   0.0       0.0        0.0  0.00000  \n",
       "1494    4              0.0  NY-NJ-PA   0.0       0.0        0.0  0.00000  \n",
       "1496    2              0.0        LA   0.0       0.0        0.0  0.00000  \n",
       "1499    5              0.0        FL   0.0       0.0        0.0  0.00000  \n",
       "\n",
       "[1651 rows x 10 columns]"
      ]
     },
     "execution_count": 95,
     "metadata": {},
     "output_type": "execute_result"
    }
   ],
   "source": [
    "stats_surf"
   ]
  },
  {
   "cell_type": "code",
   "execution_count": 99,
   "metadata": {
    "scrolled": true
   },
   "outputs": [],
   "source": [
    "stats_surf['base_cost']=20\n",
    "stats_ulti['base_cost']=70"
   ]
  },
  {
   "cell_type": "markdown",
   "metadata": {},
   "source": [
    "fixing the code starting here "
   ]
  },
  {
   "cell_type": "code",
   "execution_count": null,
   "metadata": {
    "scrolled": true
   },
   "outputs": [],
   "source": [
    "stats['revenue'] = stats['min_over'] + stats['mess_over'] + stats['gb_over'] + stats['base']"
   ]
  },
  {
   "cell_type": "code",
   "execution_count": null,
   "metadata": {},
   "outputs": [],
   "source": [
    "surf_data = stats.loc[stats['plan']== 0]\n",
    "ult_data = stats.loc[stats['plan']== 1]"
   ]
  },
  {
   "cell_type": "code",
   "execution_count": null,
   "metadata": {},
   "outputs": [],
   "source": [
    "stats.head()"
   ]
  },
  {
   "cell_type": "code",
   "execution_count": null,
   "metadata": {
    "scrolled": true
   },
   "outputs": [],
   "source": [
    "# Calculate the monthly revenue for each user\n",
    "#total amount of time - revenue per month.\n",
    "user_month_rev = stats.groupby(['user_id','month'])['revenue'].agg(total_rev = ('sum'))\n",
    "                                                                    \n",
    "user_month_rev.head()"
   ]
  },
  {
   "cell_type": "code",
   "execution_count": null,
   "metadata": {},
   "outputs": [],
   "source": [
    "#total amount of time - calls per month.\n",
    "user_month_min = stats.groupby(['user_id','month'])['duration'].agg(Sum = ('sum'))\n",
    "user_month_min.head()"
   ]
  },
  {
   "cell_type": "markdown",
   "metadata": {
    "heading_collapsed": true
   },
   "source": [
    "## Study user behaviour"
   ]
  },
  {
   "cell_type": "markdown",
   "metadata": {
    "heading_collapsed": true,
    "hidden": true
   },
   "source": [
    "### Calls"
   ]
  },
  {
   "cell_type": "code",
   "execution_count": null,
   "metadata": {
    "hidden": true
   },
   "outputs": [],
   "source": [
    "stats.plan.astype('int')"
   ]
  },
  {
   "cell_type": "code",
   "execution_count": null,
   "metadata": {
    "hidden": true,
    "scrolled": true
   },
   "outputs": [],
   "source": [
    "surf_monthly= stats.query(\"plan == 0\")\n",
    "ult_monthly= stats.query(\"plan == 1\")"
   ]
  },
  {
   "cell_type": "code",
   "execution_count": null,
   "metadata": {
    "hidden": true
   },
   "outputs": [],
   "source": [
    "ult_monthly.revenue"
   ]
  },
  {
   "cell_type": "code",
   "execution_count": null,
   "metadata": {
    "hidden": true
   },
   "outputs": [],
   "source": [
    "# Compare the number of minutes users of each plan require each month. Plot a histogram.\n",
    "surf_month_avg_min = surf_monthly.groupby(['month'])['duration'].agg(Surf_avg='mean')\n",
    "ult_month_avg_min = ult_monthly.groupby(['month'])['duration'].agg(Ult_avg='mean')\n"
   ]
  },
  {
   "cell_type": "code",
   "execution_count": null,
   "metadata": {
    "hidden": true,
    "scrolled": true
   },
   "outputs": [],
   "source": [
    "plan_avg_month_min = surf_month_avg_min.merge(ult_month_avg_min, on=\"month\")\n",
    "plan_avg_month_min.plot(kind='bar', title = 'Average Minute per Plan', width=.7,xlabel='Month', ylabel='Avg Minutes',grid=True)\n",
    "plt.legend(loc=3)\n",
    "plt.show()"
   ]
  },
  {
   "cell_type": "code",
   "execution_count": null,
   "metadata": {
    "hidden": true,
    "scrolled": true
   },
   "outputs": [],
   "source": [
    "# Calculate the mean and the variance of the monthly call duration\n",
    "plan_avg_month_min.mean()\n"
   ]
  },
  {
   "cell_type": "code",
   "execution_count": null,
   "metadata": {
    "hidden": true
   },
   "outputs": [],
   "source": [
    "plan_avg_month_min.var()"
   ]
  },
  {
   "cell_type": "code",
   "execution_count": null,
   "metadata": {
    "hidden": true
   },
   "outputs": [],
   "source": [
    "# Plot a boxplot to visualize the distribution of the monthly call duration\n",
    "plan_avg_month_min.boxplot(showmeans=True, figsize=(3,4), widths=0.55, color='black')\n",
    "plt.title('avg. min. used by plan')\n",
    "plt.ylabel('minutes')\n",
    "plt.show()\n"
   ]
  },
  {
   "cell_type": "markdown",
   "metadata": {
    "heading_collapsed": true,
    "hidden": true
   },
   "source": [
    "### calls - conclsion\n",
    "\n",
    "surf plan users have a similar average minutes per month. however most are below the package limit.\n",
    "\n",
    "how ever when looking at the distridutions of the data per plan the ultimte plans averages are higher and more tightly focused around 400 minutes. and none exceed the package limit. \n",
    "\n",
    "most users do not exceed there package limit for minutes. "
   ]
  },
  {
   "cell_type": "markdown",
   "metadata": {
    "hidden": true
   },
   "source": [
    " "
   ]
  },
  {
   "cell_type": "markdown",
   "metadata": {
    "heading_collapsed": true,
    "hidden": true
   },
   "source": [
    "### Messages"
   ]
  },
  {
   "cell_type": "code",
   "execution_count": null,
   "metadata": {
    "hidden": true,
    "scrolled": true
   },
   "outputs": [],
   "source": [
    "# Compare the number of messages users of each plan tend to send each month\n",
    "surf_data.messages.mean()"
   ]
  },
  {
   "cell_type": "code",
   "execution_count": null,
   "metadata": {
    "hidden": true
   },
   "outputs": [],
   "source": [
    "ult_data.messages.mean()"
   ]
  },
  {
   "cell_type": "code",
   "execution_count": null,
   "metadata": {
    "hidden": true
   },
   "outputs": [],
   "source": [
    "surf_month_avg_mess =surf_monthly.groupby('month')['messages'].agg(Surf_avg='mean')\n",
    "ult_month_avg_mess = ult_monthly.groupby('month')['messages'].agg(Ult_avg='mean')"
   ]
  },
  {
   "cell_type": "code",
   "execution_count": null,
   "metadata": {
    "hidden": true
   },
   "outputs": [],
   "source": [
    "plan_avg_month_mess = surf_month_avg_mess.merge(ult_month_avg_mess, on=\"month\")\n",
    "plan_avg_month_mess.plot(kind='bar', title = 'Average messages per Month', width=.7,xlabel='Month', ylabel='Avg messages',grid=True)\n",
    "plt.legend(loc=4)\n",
    "plt.show()"
   ]
  },
  {
   "cell_type": "code",
   "execution_count": null,
   "metadata": {
    "hidden": true,
    "scrolled": true
   },
   "outputs": [],
   "source": [
    "plan_avg_month_mess.boxplot(showmeans=True, widths=0.55, figsize=(3,4), color='black')\n",
    "plt.title('messages sent by plan')\n",
    "plt.ylabel('messages')\n",
    "plt.show()"
   ]
  },
  {
   "cell_type": "markdown",
   "metadata": {
    "heading_collapsed": true,
    "hidden": true
   },
   "source": [
    "### messages - conclsion \n",
    "\n",
    "surf users send less messages per month than the ultimate users.\n",
    "\n",
    "all users seem to fall below the limit of their respective package."
   ]
  },
  {
   "cell_type": "markdown",
   "metadata": {
    "heading_collapsed": true,
    "hidden": true
   },
   "source": [
    "### Internet"
   ]
  },
  {
   "cell_type": "code",
   "execution_count": null,
   "metadata": {
    "hidden": true
   },
   "outputs": [],
   "source": [
    "# Compare the amount of internet traffic consumed by users per plan\n",
    "surf_month_avg_gb = surf_monthly.groupby(['month'])['gb'].agg(Surf_avg='mean')\n",
    "ult_month_avg_gb = ult_monthly.groupby(['month'])['gb'].agg(Ult_avg='mean')"
   ]
  },
  {
   "cell_type": "code",
   "execution_count": null,
   "metadata": {
    "hidden": true
   },
   "outputs": [],
   "source": [
    "plan_avg_month_gb = surf_month_avg_gb.merge(ult_month_avg_gb, on=\"month\")\n",
    "plan_avg_month_gb.round(1)"
   ]
  },
  {
   "cell_type": "code",
   "execution_count": null,
   "metadata": {
    "hidden": true
   },
   "outputs": [],
   "source": [
    "plan_avg_month_gb.plot(kind='bar', title = 'average gb used per Plan', width=.8,xlabel='Month', ylabel='GB',grid=True)\n",
    "plt.legend(loc=2)\n",
    "plt.show()"
   ]
  },
  {
   "cell_type": "code",
   "execution_count": null,
   "metadata": {
    "hidden": true
   },
   "outputs": [],
   "source": [
    "plan_avg_month_gb = surf_month_avg_gb.merge(ult_month_avg_gb, on=\"month\")"
   ]
  },
  {
   "cell_type": "code",
   "execution_count": null,
   "metadata": {
    "hidden": true,
    "scrolled": true
   },
   "outputs": [],
   "source": [
    "plan_avg_month_gb.boxplot(showmeans=True, widths=0.55, figsize=(3,4), color='black')\n",
    "plt.title('gb used by plan')\n",
    "plt.ylabel('GB')\n",
    "plt.show()"
   ]
  },
  {
   "cell_type": "code",
   "execution_count": null,
   "metadata": {
    "hidden": true
   },
   "outputs": [],
   "source": [
    "plan_avg_month_gb.mean()"
   ]
  },
  {
   "cell_type": "markdown",
   "metadata": {
    "heading_collapsed": true,
    "hidden": true
   },
   "source": [
    "### gb - conclsion \n",
    "\n",
    "surf users tend to use less data than the users of the ultimante plan \n",
    "however the surf users tend to exceed their plan more often. \n",
    "\n",
    "all users rarly use over 20 gb of data in a month. "
   ]
  },
  {
   "cell_type": "markdown",
   "metadata": {
    "heading_collapsed": true,
    "hidden": true
   },
   "source": [
    "### Revenue"
   ]
  },
  {
   "cell_type": "code",
   "execution_count": null,
   "metadata": {
    "hidden": true
   },
   "outputs": [],
   "source": [
    "surf_month_avg_rev = surf_monthly.groupby(['month'])['revenue'].agg(Surf_avg='mean')\n",
    "ult_month_avg_rev = ult_monthly.groupby(['month'])['revenue'].agg(Ult_avg='mean')"
   ]
  },
  {
   "cell_type": "code",
   "execution_count": null,
   "metadata": {
    "hidden": true
   },
   "outputs": [],
   "source": [
    "plan_avg_month_rev = surf_month_avg_rev.merge(ult_month_avg_rev, on=\"month\")\n",
    "plan_avg_month_rev.plot(kind='bar', title = 'Total Revenue per Plan', width=.8, xlabel='Month', ylabel='Revenue',grid=True)\n",
    "plt.legend(loc=2)\n",
    "plt.show()"
   ]
  },
  {
   "cell_type": "code",
   "execution_count": null,
   "metadata": {
    "hidden": true
   },
   "outputs": [],
   "source": [
    "plan_avg_month_rev.boxplot(showmeans=True, widths=0.55, figsize=(3,4), color='black')\n",
    "plt.title('Average Revenue used by plan')\n",
    "plt.ylabel('Revenue($)')\n",
    "plt.show()"
   ]
  },
  {
   "cell_type": "code",
   "execution_count": null,
   "metadata": {
    "hidden": true
   },
   "outputs": [],
   "source": [
    "surf_total_rev = surf_data.revenue.sum()\n",
    "surf_total_rev"
   ]
  },
  {
   "cell_type": "code",
   "execution_count": null,
   "metadata": {
    "hidden": true
   },
   "outputs": [],
   "source": [
    "ult_total_rev = ult_data.revenue.sum()\n",
    "ult_total_rev"
   ]
  },
  {
   "cell_type": "code",
   "execution_count": null,
   "metadata": {
    "hidden": true,
    "scrolled": true
   },
   "outputs": [],
   "source": [
    "total_rev_surf = surf_data.revenue.count()\n",
    "total_rev_surf"
   ]
  },
  {
   "cell_type": "code",
   "execution_count": null,
   "metadata": {
    "hidden": true,
    "scrolled": true
   },
   "outputs": [],
   "source": [
    "total_rev_ult = ult_data.revenue.count()\n",
    "total_rev_ult"
   ]
  },
  {
   "cell_type": "code",
   "execution_count": null,
   "metadata": {
    "hidden": true
   },
   "outputs": [],
   "source": [
    "total_rev_ult/total_rev_surf * 100"
   ]
  },
  {
   "cell_type": "markdown",
   "metadata": {
    "hidden": true
   },
   "source": [
    "[Formulate conclusions about how the revenue differs between the plans.]"
   ]
  },
  {
   "cell_type": "code",
   "execution_count": null,
   "metadata": {
    "hidden": true
   },
   "outputs": [],
   "source": [
    "(ult_total_rev / surf_total_rev) * 100"
   ]
  },
  {
   "cell_type": "markdown",
   "metadata": {
    "hidden": true
   },
   "source": [
    "### revenue - conclsion \n",
    "\n",
    "the Ultimante plan seem to make a steady amount around 70 dollars not alot over base. \n",
    "\n",
    "surf users pay around 50 dollars, which is 30$ more than than the base. meaning over halfof the revenue is made from overages. \n",
    "\n",
    "the surf plan in total generates more revenue overall due to having more users, however the average per user is much lower. \n",
    "\n",
    "the ultimante plan brings in more revenue per user while have less total revenue. \n"
   ]
  },
  {
   "cell_type": "markdown",
   "metadata": {
    "heading_collapsed": true
   },
   "source": [
    "# Test statistical hypotheses"
   ]
  },
  {
   "cell_type": "markdown",
   "metadata": {
    "hidden": true
   },
   "source": [
    "\n",
    "### Hypothesis \n",
    "\n",
    " **H0** \n",
    "    - There is *no diffrence* between the averges of both plans. \n",
    "    \n",
    "**H1**\n",
    "    - The mean values of the populations of each plan are *significantly diffrent*."
   ]
  },
  {
   "cell_type": "code",
   "execution_count": null,
   "metadata": {
    "hidden": true
   },
   "outputs": [],
   "source": [
    "sample_stats_surf = stats.query(\"plan == 0\")\n",
    "\n",
    "sample_stats_ulti = stats.query(\"plan == 1\")"
   ]
  },
  {
   "cell_type": "code",
   "execution_count": null,
   "metadata": {
    "hidden": true
   },
   "outputs": [],
   "source": [
    "rev_mean_surf = sample_stats_surf.revenue.mean()\n",
    "rev_var_surf = sample_stats_surf.revenue.var()"
   ]
  },
  {
   "cell_type": "code",
   "execution_count": null,
   "metadata": {
    "hidden": true
   },
   "outputs": [],
   "source": [
    "rev_mean_ulti = sample_stats_ulti.revenue.mean()\n",
    "rev_var_ulti= sample_stats_ulti.revenue.var()"
   ]
  },
  {
   "cell_type": "code",
   "execution_count": null,
   "metadata": {
    "hidden": true
   },
   "outputs": [],
   "source": [
    "print('surf varience:',rev_var_surf , \"Ultimate varience:\" , rev_var_ulti)"
   ]
  },
  {
   "cell_type": "code",
   "execution_count": null,
   "metadata": {
    "hidden": true,
    "scrolled": true
   },
   "outputs": [],
   "source": [
    "plan_rev_result = py.stats.ttest_ind(sample_stats_surf['revenue'], sample_stats_ulti['revenue'], equal_var=False)\n",
    "plan_rev_result.pvalue"
   ]
  },
  {
   "cell_type": "code",
   "execution_count": null,
   "metadata": {
    "hidden": true
   },
   "outputs": [],
   "source": [
    "alpha=0.02"
   ]
  },
  {
   "cell_type": "code",
   "execution_count": null,
   "metadata": {
    "hidden": true
   },
   "outputs": [],
   "source": [
    "# Test the hypotheses\n",
    "print('p-value:', plan_rev_result.pvalue / 2)\n",
    "\n",
    "if (plan_rev_result.pvalue / 2) < alpha:\n",
    "    print(\"the null hypothesis should be rejected\")\n",
    "else:\n",
    "    print(\"the null hypthesis can not be rejected\")"
   ]
  },
  {
   "cell_type": "code",
   "execution_count": null,
   "metadata": {
    "hidden": true
   },
   "outputs": [],
   "source": [
    "sample_stats_NY = stats.query(\"state in 'NY'\")\n",
    "sample_stats_other = stats.query(\"state not in 'NY'\")"
   ]
  },
  {
   "cell_type": "code",
   "execution_count": null,
   "metadata": {
    "hidden": true
   },
   "outputs": [],
   "source": [
    "rev_mean_NY = sample_stats_NY.revenue.mean()\n",
    "rev_var_NY= sample_stats_NY.revenue.var()"
   ]
  },
  {
   "cell_type": "code",
   "execution_count": null,
   "metadata": {
    "hidden": true
   },
   "outputs": [],
   "source": [
    "rev_mean_other = sample_stats_other.revenue.mean()\n",
    "rev_var_other= sample_stats_other.revenue.var()"
   ]
  },
  {
   "cell_type": "code",
   "execution_count": null,
   "metadata": {
    "hidden": true
   },
   "outputs": [],
   "source": [
    "print('NY area varience:',rev_var_NY , \"other area varience:\" , rev_var_other)"
   ]
  },
  {
   "cell_type": "code",
   "execution_count": null,
   "metadata": {
    "hidden": true
   },
   "outputs": [],
   "source": [
    "rev_var_other/rev_var_NY "
   ]
  },
  {
   "cell_type": "code",
   "execution_count": null,
   "metadata": {
    "hidden": true
   },
   "outputs": [],
   "source": [
    "NY_rev_results = py.stats.ttest_ind(sample_stats_NY['revenue'], sample_stats_other['revenue'], equal_var=True)\n",
    "NY_rev_results.pvalue"
   ]
  },
  {
   "cell_type": "code",
   "execution_count": null,
   "metadata": {
    "hidden": true
   },
   "outputs": [],
   "source": [
    "# Test the hypotheses\n",
    "print('p-value:', NY_rev_results.pvalue / 2)\n",
    "\n",
    "if (NY_rev_results.pvalue / 2) < alpha:\n",
    "    print(\"the null hypothesis should be rejected\")\n",
    "else:\n",
    "    print(\"the null hypthesis can not be rejected\")"
   ]
  },
  {
   "cell_type": "markdown",
   "metadata": {
    "hidden": true
   },
   "source": [
    "Users from the NY-NJ area do not differ from the other states enough to reject the null hypothesis that the datasets are not equal.  "
   ]
  },
  {
   "cell_type": "markdown",
   "metadata": {
    "heading_collapsed": true
   },
   "source": [
    "# General conclusion"
   ]
  },
  {
   "cell_type": "markdown",
   "metadata": {
    "hidden": true
   },
   "source": [
    "**Metrics Conclusion**\n",
    "\n",
    "- Minutes\n",
    "    - users from both plans tend to stay below their call limits. \n",
    "- Messages \n",
    "    - again, users dont often go over the plans limit. \n",
    "- GB\n",
    "    - Data is where users tend to exceed the limits of the given plan. \n",
    "        - this is extremely common amoung surf plan users. \n",
    "        - data overage fees are the main source of revenue for the whole plan. \n",
    "    - users rarely exceed 20 gb which is below the ultimante plans limit.\n",
    "    \n",
    "**Plan Conclusions** \n",
    "\n",
    "- *Surf* currently brings in more revenue \n",
    "    - at roughly ~100,000 or 51% of the overall revenue.\n",
    "    - a result of having 40% more users then Ultimate. \n",
    "\n",
    "- *Ultimante* is the more profitable plan. \n",
    "    - making up 49% of the total revenue. \n",
    "    - while having only a quarter of the total users.\n",
    "    \n",
    "**Final Conclusion** \n",
    "\n",
    "- The plan which generates **the most revenue is the Ultimante plan**. \n",
    "    - **the biggest factor in each plan is the base costs.** dispite the fact the many surf users exceed their data limit they still pay less than the base cost of an ultimante user.\n",
    "\n"
   ]
  }
 ],
 "metadata": {
  "ExecuteTimeLog": [
   {
    "duration": 828,
    "start_time": "2021-11-16T09:21:11.304Z"
   },
   {
    "duration": 893,
    "start_time": "2021-11-16T09:21:17.728Z"
   },
   {
    "duration": 1150,
    "start_time": "2021-11-16T09:21:29.568Z"
   },
   {
    "duration": 3,
    "start_time": "2021-11-16T09:24:14.495Z"
   },
   {
    "duration": 120,
    "start_time": "2021-11-16T09:24:46.630Z"
   },
   {
    "duration": 3,
    "start_time": "2021-11-16T09:28:27.882Z"
   },
   {
    "duration": 4,
    "start_time": "2021-11-16T09:29:54.281Z"
   },
   {
    "duration": 3,
    "start_time": "2021-11-16T09:30:45.936Z"
   },
   {
    "duration": 4,
    "start_time": "2021-11-16T09:31:06.300Z"
   },
   {
    "duration": 113,
    "start_time": "2021-11-16T09:31:37.208Z"
   },
   {
    "duration": 143,
    "start_time": "2021-11-16T09:31:48.656Z"
   },
   {
    "duration": 98,
    "start_time": "2021-11-16T09:31:55.678Z"
   },
   {
    "duration": 3,
    "start_time": "2021-11-16T09:32:08.535Z"
   },
   {
    "duration": 111,
    "start_time": "2021-11-16T09:32:10.120Z"
   },
   {
    "duration": 3,
    "start_time": "2021-11-16T09:32:15.732Z"
   },
   {
    "duration": 4,
    "start_time": "2021-11-16T09:32:29.423Z"
   },
   {
    "duration": 3,
    "start_time": "2021-11-16T10:03:03.074Z"
   },
   {
    "duration": 3,
    "start_time": "2021-11-16T10:10:01.288Z"
   },
   {
    "duration": 3,
    "start_time": "2021-11-16T10:10:46.923Z"
   },
   {
    "duration": 121,
    "start_time": "2021-11-16T10:37:46.494Z"
   },
   {
    "duration": 125,
    "start_time": "2021-11-16T10:38:20.632Z"
   },
   {
    "duration": 112,
    "start_time": "2021-11-16T10:46:53.001Z"
   },
   {
    "duration": 110,
    "start_time": "2021-11-16T10:48:25.775Z"
   },
   {
    "duration": 3,
    "start_time": "2021-11-16T10:50:18.720Z"
   },
   {
    "duration": 4,
    "start_time": "2021-11-16T10:50:37.649Z"
   },
   {
    "duration": 2,
    "start_time": "2021-11-16T10:50:51.884Z"
   },
   {
    "duration": 3,
    "start_time": "2021-11-16T10:51:56.237Z"
   },
   {
    "duration": 101,
    "start_time": "2021-11-16T10:53:13.791Z"
   },
   {
    "duration": 3,
    "start_time": "2021-11-16T10:55:59.186Z"
   },
   {
    "duration": 3,
    "start_time": "2021-11-16T10:56:10.751Z"
   },
   {
    "duration": 3,
    "start_time": "2021-11-16T10:56:49.038Z"
   },
   {
    "duration": 3,
    "start_time": "2021-11-16T10:56:49.174Z"
   },
   {
    "duration": 4,
    "start_time": "2021-11-16T10:56:49.414Z"
   },
   {
    "duration": 3,
    "start_time": "2021-11-16T10:56:49.680Z"
   },
   {
    "duration": 3,
    "start_time": "2021-11-16T10:56:50.370Z"
   },
   {
    "duration": 114,
    "start_time": "2021-11-16T10:59:34.518Z"
   },
   {
    "duration": 3,
    "start_time": "2021-11-16T11:01:41.201Z"
   },
   {
    "duration": 116,
    "start_time": "2021-11-16T11:01:48.754Z"
   },
   {
    "duration": 3,
    "start_time": "2021-11-16T11:02:16.685Z"
   },
   {
    "duration": 3,
    "start_time": "2021-11-16T11:02:19.479Z"
   },
   {
    "duration": 3,
    "start_time": "2021-11-16T11:02:47.067Z"
   },
   {
    "duration": 3,
    "start_time": "2021-11-16T11:02:49.353Z"
   },
   {
    "duration": 3,
    "start_time": "2021-11-16T11:03:07.835Z"
   },
   {
    "duration": 3,
    "start_time": "2021-11-16T11:03:07.953Z"
   },
   {
    "duration": 112,
    "start_time": "2021-11-16T11:07:52.072Z"
   },
   {
    "duration": 187,
    "start_time": "2021-11-16T11:09:23.468Z"
   },
   {
    "duration": 4,
    "start_time": "2021-11-16T11:10:01.455Z"
   },
   {
    "duration": 3,
    "start_time": "2021-11-16T11:10:05.069Z"
   },
   {
    "duration": 4,
    "start_time": "2021-11-16T11:10:13.376Z"
   },
   {
    "duration": 3,
    "start_time": "2021-11-16T11:10:14.434Z"
   },
   {
    "duration": 3,
    "start_time": "2021-11-16T11:10:22.853Z"
   },
   {
    "duration": 4,
    "start_time": "2021-11-16T11:27:29.279Z"
   },
   {
    "duration": 4,
    "start_time": "2021-11-16T11:29:08.919Z"
   },
   {
    "duration": 118,
    "start_time": "2021-11-16T11:29:46.703Z"
   },
   {
    "duration": 437,
    "start_time": "2021-11-16T11:36:02.181Z"
   },
   {
    "duration": 157,
    "start_time": "2021-11-16T11:36:14.388Z"
   },
   {
    "duration": 207,
    "start_time": "2021-11-16T11:47:15.898Z"
   },
   {
    "duration": 3,
    "start_time": "2021-11-16T11:53:52.092Z"
   },
   {
    "duration": 3,
    "start_time": "2021-11-16T11:53:52.236Z"
   },
   {
    "duration": 3,
    "start_time": "2021-11-16T11:59:12.005Z"
   },
   {
    "duration": 112,
    "start_time": "2021-11-16T12:00:33.446Z"
   },
   {
    "duration": 3,
    "start_time": "2021-11-16T12:02:14.453Z"
   },
   {
    "duration": 3,
    "start_time": "2021-11-16T12:02:39.512Z"
   },
   {
    "duration": 106,
    "start_time": "2021-11-16T12:03:03.460Z"
   },
   {
    "duration": 3,
    "start_time": "2021-11-17T20:37:21.139Z"
   },
   {
    "duration": 3,
    "start_time": "2021-11-17T20:37:22.229Z"
   },
   {
    "duration": 3,
    "start_time": "2021-11-17T20:38:38.806Z"
   },
   {
    "duration": 3,
    "start_time": "2021-11-17T20:38:41.958Z"
   },
   {
    "duration": 3,
    "start_time": "2021-11-17T20:43:46.551Z"
   },
   {
    "duration": 4,
    "start_time": "2021-11-17T20:58:21.835Z"
   },
   {
    "duration": 3,
    "start_time": "2021-11-17T20:59:21.872Z"
   },
   {
    "duration": 4,
    "start_time": "2021-11-17T20:59:45.352Z"
   },
   {
    "duration": 4,
    "start_time": "2021-11-17T20:59:49.646Z"
   },
   {
    "duration": 159,
    "start_time": "2021-11-17T21:02:26.949Z"
   },
   {
    "duration": 3,
    "start_time": "2021-11-17T21:03:53.461Z"
   },
   {
    "duration": 3,
    "start_time": "2021-11-17T21:03:53.694Z"
   },
   {
    "duration": 3,
    "start_time": "2021-11-17T21:05:28.145Z"
   },
   {
    "duration": 116,
    "start_time": "2021-11-17T21:05:57.787Z"
   },
   {
    "duration": 3,
    "start_time": "2021-11-17T21:06:37.993Z"
   },
   {
    "duration": 3,
    "start_time": "2021-11-17T21:06:38.261Z"
   },
   {
    "duration": 3,
    "start_time": "2021-11-17T21:11:54.358Z"
   },
   {
    "duration": 3,
    "start_time": "2021-11-17T21:12:43.846Z"
   },
   {
    "duration": 4,
    "start_time": "2021-11-17T21:13:08.773Z"
   },
   {
    "duration": 3,
    "start_time": "2021-11-17T21:14:44.441Z"
   },
   {
    "duration": 3,
    "start_time": "2021-11-17T21:15:42.059Z"
   },
   {
    "duration": 4,
    "start_time": "2021-11-17T21:15:51.995Z"
   },
   {
    "duration": 3,
    "start_time": "2021-11-17T21:15:53.923Z"
   },
   {
    "duration": 3,
    "start_time": "2021-11-17T21:15:55.282Z"
   },
   {
    "duration": 3,
    "start_time": "2021-11-17T21:16:28.492Z"
   },
   {
    "duration": 3,
    "start_time": "2021-11-17T21:16:32.603Z"
   },
   {
    "duration": 3,
    "start_time": "2021-11-17T21:17:06.941Z"
   },
   {
    "duration": 98,
    "start_time": "2021-11-17T21:18:05.733Z"
   },
   {
    "duration": 4,
    "start_time": "2021-11-17T21:21:35.255Z"
   },
   {
    "duration": 3,
    "start_time": "2021-11-17T21:21:37.804Z"
   },
   {
    "duration": 4,
    "start_time": "2021-11-17T21:23:06.071Z"
   },
   {
    "duration": 3,
    "start_time": "2021-11-17T21:23:24.799Z"
   },
   {
    "duration": 3,
    "start_time": "2021-11-17T21:23:32.591Z"
   },
   {
    "duration": 98,
    "start_time": "2021-11-17T21:28:31.559Z"
   },
   {
    "duration": 3,
    "start_time": "2021-11-17T21:28:45.448Z"
   },
   {
    "duration": 3,
    "start_time": "2021-11-17T21:29:17.303Z"
   },
   {
    "duration": 3,
    "start_time": "2021-11-17T21:29:29.617Z"
   },
   {
    "duration": 3,
    "start_time": "2021-11-17T21:29:32.681Z"
   },
   {
    "duration": 3,
    "start_time": "2021-11-17T21:36:11.474Z"
   },
   {
    "duration": 3,
    "start_time": "2021-11-17T21:36:14.791Z"
   },
   {
    "duration": 3,
    "start_time": "2021-11-17T21:36:53.943Z"
   },
   {
    "duration": 3,
    "start_time": "2021-11-17T21:36:56.165Z"
   },
   {
    "duration": 4,
    "start_time": "2021-11-17T21:37:16.590Z"
   },
   {
    "duration": 3,
    "start_time": "2021-11-17T21:37:22.702Z"
   },
   {
    "duration": 4,
    "start_time": "2021-11-17T21:38:03.479Z"
   },
   {
    "duration": 3,
    "start_time": "2021-11-17T21:38:08.601Z"
   },
   {
    "duration": 3,
    "start_time": "2021-11-17T21:38:12.928Z"
   },
   {
    "duration": 3,
    "start_time": "2021-11-17T21:38:48.896Z"
   },
   {
    "duration": 2,
    "start_time": "2021-11-17T21:38:49.171Z"
   },
   {
    "duration": 4,
    "start_time": "2021-11-17T21:39:57.889Z"
   },
   {
    "duration": 3,
    "start_time": "2021-11-17T21:39:58.057Z"
   },
   {
    "duration": 3,
    "start_time": "2021-11-17T21:41:20.108Z"
   },
   {
    "duration": 3,
    "start_time": "2021-11-17T21:41:20.629Z"
   },
   {
    "duration": 3,
    "start_time": "2021-11-17T21:42:49.136Z"
   },
   {
    "duration": 3,
    "start_time": "2021-11-17T21:43:15.137Z"
   },
   {
    "duration": 4,
    "start_time": "2021-11-17T21:43:16.766Z"
   },
   {
    "duration": 4,
    "start_time": "2021-11-17T21:43:31.711Z"
   },
   {
    "duration": 3,
    "start_time": "2021-11-17T21:43:36.312Z"
   },
   {
    "duration": 4,
    "start_time": "2021-11-17T21:45:08.825Z"
   },
   {
    "duration": 4,
    "start_time": "2021-11-17T21:45:10.119Z"
   },
   {
    "duration": 4,
    "start_time": "2021-11-17T21:45:13.748Z"
   },
   {
    "duration": 3,
    "start_time": "2021-11-17T21:45:22.219Z"
   },
   {
    "duration": 3,
    "start_time": "2021-11-17T21:45:33.412Z"
   },
   {
    "duration": 2,
    "start_time": "2021-11-17T21:46:01.885Z"
   },
   {
    "duration": 3,
    "start_time": "2021-11-17T21:46:03.628Z"
   },
   {
    "duration": 107,
    "start_time": "2021-11-17T21:47:32.512Z"
   },
   {
    "duration": 103,
    "start_time": "2021-11-17T21:50:36.243Z"
   },
   {
    "duration": 3,
    "start_time": "2021-11-18T06:28:31.440Z"
   },
   {
    "duration": 3,
    "start_time": "2021-11-18T06:29:00.168Z"
   },
   {
    "duration": 3,
    "start_time": "2021-11-18T06:31:27.008Z"
   },
   {
    "duration": 2,
    "start_time": "2021-11-18T06:35:34.288Z"
   },
   {
    "duration": 2,
    "start_time": "2021-11-18T06:38:04.527Z"
   }
  ],
  "kernelspec": {
   "display_name": "Python 3 (ipykernel)",
   "language": "python",
   "name": "python3"
  },
  "language_info": {
   "codemirror_mode": {
    "name": "ipython",
    "version": 3
   },
   "file_extension": ".py",
   "mimetype": "text/x-python",
   "name": "python",
   "nbconvert_exporter": "python",
   "pygments_lexer": "ipython3",
   "version": "3.9.12"
  },
  "toc": {
   "base_numbering": 1,
   "nav_menu": {},
   "number_sections": true,
   "sideBar": true,
   "skip_h1_title": false,
   "title_cell": "Table of Contents",
   "title_sidebar": "Contents",
   "toc_cell": false,
   "toc_position": {
    "height": "582.797px",
    "left": "1131px",
    "top": "111.125px",
    "width": "165px"
   },
   "toc_section_display": true,
   "toc_window_display": false
  },
  "varInspector": {
   "cols": {
    "lenName": 16,
    "lenType": 16,
    "lenVar": 40
   },
   "kernels_config": {
    "python": {
     "delete_cmd_postfix": "",
     "delete_cmd_prefix": "del ",
     "library": "var_list.py",
     "varRefreshCmd": "print(var_dic_list())"
    },
    "r": {
     "delete_cmd_postfix": ") ",
     "delete_cmd_prefix": "rm(",
     "library": "var_list.r",
     "varRefreshCmd": "cat(var_dic_list()) "
    }
   },
   "types_to_exclude": [
    "module",
    "function",
    "builtin_function_or_method",
    "instance",
    "_Feature"
   ],
   "window_display": false
  }
 },
 "nbformat": 4,
 "nbformat_minor": 4
}
